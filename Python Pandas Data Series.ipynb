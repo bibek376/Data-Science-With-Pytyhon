{
 "cells": [
  {
   "cell_type": "code",
   "execution_count": 1,
   "metadata": {},
   "outputs": [
    {
     "data": {
      "text/plain": [
       "0     1\n",
       "1     2\n",
       "2     3\n",
       "3     4\n",
       "4    55\n",
       "dtype: int64"
      ]
     },
     "execution_count": 1,
     "metadata": {},
     "output_type": "execute_result"
    }
   ],
   "source": [
    "#Write a Pandas program to create and display a one-dimensional array-like object \n",
    "#containing an array of data using Pandas module\n",
    "from pandas import Series as se\n",
    "x=se([1,2,3,4,55])\n",
    "x"
   ]
  },
  {
   "cell_type": "code",
   "execution_count": 7,
   "metadata": {},
   "outputs": [
    {
     "name": "stdout",
     "output_type": "stream",
     "text": [
      "after converting:\n",
      "[2, 3, 4, 5, 6]\n"
     ]
    }
   ],
   "source": [
    "#Write a Pandas program to convert a Panda module Series to Python list and it's type\n",
    "from pandas import Series as se\n",
    "arr=se([2,3,4,5,6])\n",
    "# a=list(arr)\n",
    "# print(a)\n",
    "# print(type(a))\n",
    "print(\"after converting:\")\n",
    "print(arr.tolist())"
   ]
  },
  {
   "cell_type": "code",
   "execution_count": 11,
   "metadata": {},
   "outputs": [
    {
     "name": "stdout",
     "output_type": "stream",
     "text": [
      "0    11\n",
      "1    13\n",
      "2    15\n",
      "dtype: int64\n",
      "0    3\n",
      "1    3\n",
      "2    3\n",
      "dtype: int64\n",
      "0    28\n",
      "1    40\n",
      "2    54\n",
      "dtype: int64\n",
      "0    1.75\n",
      "1    1.60\n",
      "2    1.50\n",
      "dtype: float64\n"
     ]
    }
   ],
   "source": [
    "#Write a Pandas program to add, subtract, multiple and divide two Pandas Series.\n",
    "from pandas import Series as se\n",
    "a=se([4,5,6])\n",
    "b=se([7,8,9])\n",
    "print(a+b)\n",
    "print(b-a)\n",
    "print(a*b)\n",
    "print(b/a)"
   ]
  },
  {
   "cell_type": "code",
   "execution_count": 13,
   "metadata": {},
   "outputs": [
    {
     "name": "stdout",
     "output_type": "stream",
     "text": [
      "0    False\n",
      "1     True\n",
      "2    False\n",
      "dtype: bool\n",
      "0     True\n",
      "1    False\n",
      "2    False\n",
      "dtype: bool\n",
      "0    False\n",
      "1    False\n",
      "2     True\n",
      "dtype: bool\n"
     ]
    }
   ],
   "source": [
    "#Write a Pandas program to compare the elements of the two Pandas Series.\n",
    "from pandas import Series as se\n",
    "a=se([3,4,5])\n",
    "b=se([2,4,6])\n",
    "print(a==b)\n",
    "print(a>b)\n",
    "print(a<b)"
   ]
  },
  {
   "cell_type": "code",
   "execution_count": 14,
   "metadata": {},
   "outputs": [
    {
     "name": "stdout",
     "output_type": "stream",
     "text": [
      "a    100\n",
      "b    200\n",
      "c    300\n",
      "d    400\n",
      "e    800\n",
      "dtype: int64\n"
     ]
    }
   ],
   "source": [
    "#Write a Pandas program to convert a dictionary to a Pandas series.\n",
    "from pandas import Series se\n",
    "a={'a': 100, 'b': 200, 'c': 300, 'd': 400, 'e': 800}\n",
    "a=se(a)\n",
    "print(a)"
   ]
  },
  {
   "cell_type": "code",
   "execution_count": 20,
   "metadata": {},
   "outputs": [
    {
     "name": "stdout",
     "output_type": "stream",
     "text": [
      "original numpy:\n",
      "[1 2 3 4 5 6 7 8 9]\n",
      "after changing:\n",
      "0    1\n",
      "1    2\n",
      "2    3\n",
      "3    4\n",
      "4    5\n",
      "5    6\n",
      "6    7\n",
      "7    8\n",
      "8    9\n",
      "dtype: int32\n"
     ]
    }
   ],
   "source": [
    "#Write a Pandas program to convert a NumPy array to a Pandas series.\n",
    "from pandas import Series as se\n",
    "import numpy as np\n",
    "a=np.arange(1,10)\n",
    "print(\"original numpy:\")\n",
    "print(a)\n",
    "print(\"after changing:\")\n",
    "print(se(a))"
   ]
  },
  {
   "cell_type": "code",
   "execution_count": 28,
   "metadata": {},
   "outputs": [
    {
     "name": "stdout",
     "output_type": "stream",
     "text": [
      "0         3\n",
      "1         5\n",
      "2         6\n",
      "3    python\n",
      "4     65.12\n",
      "dtype: object\n",
      "after changing inio a numeric:\n",
      "0     3.00\n",
      "1     5.00\n",
      "2     6.00\n",
      "3      NaN\n",
      "4    65.12\n",
      "dtype: float64\n"
     ]
    }
   ],
   "source": [
    "#Write a Pandas program to change the data type of given a column or a Series.\n",
    "from pandas import Series as se\n",
    "import pandas as pd\n",
    "a=se([3,5,6,\"python\",65.12])\n",
    "print(a)\n",
    "print(\"after changing inio a numeric:\")\n",
    "b=pd.to_numeric(a,errors=\"coerce\")\n",
    "print(b)"
   ]
  },
  {
   "cell_type": "code",
   "execution_count": 36,
   "metadata": {},
   "outputs": [
    {
     "name": "stdout",
     "output_type": "stream",
     "text": [
      "       col1      col2      col3\n",
      "0 -1.924086 -0.698736 -0.256558\n",
      "1  0.638699 -0.223505  1.495292\n",
      "2 -1.056535 -0.617291  0.289574\n",
      "3  2.277587 -0.777934 -1.022015\n",
      "4  0.464980  1.769191 -1.708758\n",
      "5 -0.639655  0.127436  0.940055\n"
     ]
    }
   ],
   "source": [
    "#Write a Pandas program to convert the first column of a DataFrame as a Series.\n",
    "from pandas import Series as se\n",
    "import pandas as pd\n",
    "import numpy as np\n",
    "arr=pd.DataFrame(np.random.randn(6,3),columns=['col1','col2','col3'])\n",
    "print(arr)"
   ]
  },
  {
   "cell_type": "code",
   "execution_count": 39,
   "metadata": {},
   "outputs": [
    {
     "name": "stdout",
     "output_type": "stream",
     "text": [
      "0   -1.924086\n",
      "1    0.638699\n",
      "2   -1.056535\n",
      "3    2.277587\n",
      "4    0.464980\n",
      "5   -0.639655\n",
      "Name: col1, dtype: float64\n"
     ]
    }
   ],
   "source": [
    "print(se(arr.col1))"
   ]
  },
  {
   "cell_type": "code",
   "execution_count": 44,
   "metadata": {},
   "outputs": [
    {
     "name": "stdout",
     "output_type": "stream",
     "text": [
      "0    2\n",
      "1    4\n",
      "2    6\n",
      "3    7\n",
      "dtype: int64\n",
      "[2 4 6 7]\n"
     ]
    }
   ],
   "source": [
    "#Write a Pandas program to convert a given Series to an array.\n",
    "from pandas import Series as se\n",
    "import pandas as pd\n",
    "import numpy as np\n",
    "a=se([2,4,6,7])\n",
    "print(a)\n",
    "qq=np.array(a.values.tolist())\n",
    "print(qq)"
   ]
  },
  {
   "cell_type": "code",
   "execution_count": 54,
   "metadata": {},
   "outputs": [
    {
     "name": "stdout",
     "output_type": "stream",
     "text": [
      "0    [a, b, c]\n",
      "1       [d, e]\n",
      "2          [f]\n",
      "dtype: object\n",
      "0    a\n",
      "1    b\n",
      "2    c\n",
      "3    d\n",
      "4    e\n",
      "5    f\n",
      "dtype: object\n"
     ]
    }
   ],
   "source": [
    "#Write a Pandas program to convert Series of lists to one Series.\n",
    "from pandas import Series as se\n",
    "# a=se([1,23,4,5])\n",
    "# b=se([6,8,9,0])\n",
    "# print(se(list(a)+list(b)))\n",
    "m=se([[\"a\",\"b\",\"c\"],[\"d\",\"e\"],[\"f\"]])\n",
    "print(m)\n",
    "m=m.apply(se).stack().reset_index(drop=True)\n",
    "print(m)"
   ]
  },
  {
   "cell_type": "code",
   "execution_count": 59,
   "metadata": {},
   "outputs": [
    {
     "name": "stdout",
     "output_type": "stream",
     "text": [
      "1     5\n",
      "2    55\n",
      "0     a\n",
      "dtype: object\n"
     ]
    }
   ],
   "source": [
    "#Write a Pandas program to sort a given Series.\n",
    "from pandas import Series as se\n",
    "ar=se([\"a\",\"5\",\"55\"])\n",
    "arr=se(ar).sort_values()\n",
    "print(arr)"
   ]
  },
  {
   "cell_type": "code",
   "execution_count": 64,
   "metadata": {},
   "outputs": [
    {
     "name": "stdout",
     "output_type": "stream",
     "text": [
      "0     2\n",
      "1     4\n",
      "2     5\n",
      "3     6\n",
      "4    ne\n",
      "dtype: object\n",
      "0    12\n",
      "1    33\n",
      "dtype: int64\n",
      "0     2\n",
      "1     4\n",
      "2     5\n",
      "3     6\n",
      "4    ne\n",
      "0    12\n",
      "1    33\n",
      "dtype: object\n"
     ]
    }
   ],
   "source": [
    "#Write a Pandas program to add some data to an existing Series.\n",
    "from pandas import Series as se\n",
    "ar=se([2,4,5,6,\"ne\"])\n",
    "print(ar)\n",
    "aa=se([12,33])\n",
    "print(aa)\n",
    "x=ar.append(aa)\n",
    "print(x)"
   ]
  },
  {
   "cell_type": "code",
   "execution_count": 70,
   "metadata": {},
   "outputs": [
    {
     "name": "stdout",
     "output_type": "stream",
     "text": [
      "0      0\n",
      "1      1\n",
      "2      2\n",
      "3      3\n",
      "4      4\n",
      "5      5\n",
      "6      6\n",
      "7      7\n",
      "8      8\n",
      "9      9\n",
      "10    10\n",
      "dtype: int64\n",
      "sub-set after applying condition is:\n",
      "0    0\n",
      "1    1\n",
      "2    2\n",
      "3    3\n",
      "4    4\n",
      "5    5\n",
      "dtype: int64\n"
     ]
    }
   ],
   "source": [
    "# Write a Pandas program to create a subset of a given series based on value and condition.\n",
    "from pandas import Series as se\n",
    "a=se([0,1,2,3,4,5,6,7,8,9,10])\n",
    "print(a)\n",
    "print(\"sub-set after applying condition is:\")\n",
    "print(a[a<=5])"
   ]
  },
  {
   "cell_type": "code",
   "execution_count": 78,
   "metadata": {},
   "outputs": [
    {
     "name": "stdout",
     "output_type": "stream",
     "text": [
      "a    4\n",
      "b    7\n",
      "c    8\n",
      "d    4\n",
      "dtype: int64\n",
      "c    8\n",
      "a    4\n",
      "d    4\n",
      "b    7\n",
      "dtype: int64\n"
     ]
    }
   ],
   "source": [
    "#Write a Pandas program to change the order of index of a given series.\n",
    "from pandas import Series as se\n",
    "a=se([4,7,8,4],index=['a','b','c','d'])\n",
    "print(a)\n",
    "# a=se(a).sort_values()\n",
    "# print(a)\n",
    "a=a.reindex(index=['c','a','d','b'])\n",
    "print(a)"
   ]
  },
  {
   "cell_type": "code",
   "execution_count": 81,
   "metadata": {},
   "outputs": [
    {
     "name": "stdout",
     "output_type": "stream",
     "text": [
      "0     1\n",
      "1     5\n",
      "2     8\n",
      "3     9\n",
      "4     4\n",
      "5     5\n",
      "6     3\n",
      "7     2\n",
      "8    54\n",
      "9     8\n",
      "dtype: int64\n",
      "mean is:\n",
      "9.9\n",
      " standard deviation is:\n",
      "15.72294855016422\n"
     ]
    }
   ],
   "source": [
    "#Write a Pandas program to create the mean and standard deviation of the data of a given Series.\n",
    "from pandas import Series as se\n",
    "a=se([1,5,8,9,4,5,3,2,54,8])\n",
    "print(a)\n",
    "print(\"mean is:\")\n",
    "print(a.mean())\n",
    "print(\" standard deviation is:\")\n",
    "print(a.std())"
   ]
  },
  {
   "cell_type": "code",
   "execution_count": 6,
   "metadata": {},
   "outputs": [
    {
     "name": "stdout",
     "output_type": "stream",
     "text": [
      "0    1\n",
      "2    3\n",
      "3    5\n",
      "dtype: int64\n"
     ]
    }
   ],
   "source": [
    "#Write a Pandas program to get the items of a given series not present in another given series.\n",
    "from pandas import Series as se\n",
    "s1=se([1,2,3,5,8,10])\n",
    "s2=se([2,4,6,8,10,12])\n",
    "result=s1[~s1.isin(s2)]\n",
    "print(result)"
   ]
  },
  {
   "cell_type": "code",
   "execution_count": 17,
   "metadata": {},
   "outputs": [
    {
     "name": "stdout",
     "output_type": "stream",
     "text": [
      "0     2\n",
      "1     3\n",
      "2     4\n",
      "3     6\n",
      "4     8\n",
      "5    10\n",
      "6    12\n",
      "7    22\n",
      "8    78\n",
      "dtype: int64\n"
     ]
    }
   ],
   "source": [
    "#Write a Pandas program to get the items which are not common of two given series.\n",
    "from pandas import Series as se\n",
    "import numpy as np\n",
    "s1=se([2,6,78,4,3,22])\n",
    "s2=se([2,4,6,8,10,12])\n",
    "s3=se(np.union1d(s1,s2))\n",
    "print(s3)\n",
    "# result=set(s1).union(set(s2))\n",
    "# print(se(list(result)))\n"
   ]
  },
  {
   "cell_type": "code",
   "execution_count": 20,
   "metadata": {},
   "outputs": [
    {
     "name": "stdout",
     "output_type": "stream",
     "text": [
      "occurance list are:\n",
      "0    4\n",
      "1    3\n",
      "4    2\n",
      "2    2\n",
      "5    1\n",
      "3    1\n",
      "dtype: int64\n"
     ]
    }
   ],
   "source": [
    "#Write a Pandas program to calculate the frequency counts of each unique value of a given series. \n",
    "from pandas import Series as se\n",
    "s1=se([0,1,2,3,4,0,1,5,0,2,4,1,0])\n",
    "print(\"occurance list are:\")\n",
    "print(s1.value_counts())"
   ]
  },
  {
   "cell_type": "code",
   "execution_count": null,
   "metadata": {},
   "outputs": [],
   "source": []
  }
 ],
 "metadata": {
  "kernelspec": {
   "display_name": "Python 3",
   "language": "python",
   "name": "python3"
  },
  "language_info": {
   "codemirror_mode": {
    "name": "ipython",
    "version": 3
   },
   "file_extension": ".py",
   "mimetype": "text/x-python",
   "name": "python",
   "nbconvert_exporter": "python",
   "pygments_lexer": "ipython3",
   "version": "3.8.3"
  }
 },
 "nbformat": 4,
 "nbformat_minor": 4
}
