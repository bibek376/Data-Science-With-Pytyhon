{
 "cells": [
  {
   "cell_type": "code",
   "execution_count": 7,
   "metadata": {},
   "outputs": [
    {
     "name": "stdout",
     "output_type": "stream",
     "text": [
      "       col1      col2      col3\n",
      "a  0.450681  0.625534  0.733230\n",
      "b -0.407159 -0.265861  0.234360\n",
      "c  0.470539  1.342299 -0.862745\n",
      "d -0.205332  2.040450  1.040871\n",
      "e  1.197232  0.732496 -0.625110\n"
     ]
    }
   ],
   "source": [
    "import numpy as np\n",
    "import pandas as pd\n",
    "a=pd.DataFrame(np.random.randn(5,3),index=[\"a\",\"b\",\"c\",\"d\",\"e\"],columns=[\"col1\",\"col2\",\"col3\"])\n",
    "print(a)"
   ]
  },
  {
   "cell_type": "code",
   "execution_count": 8,
   "metadata": {},
   "outputs": [
    {
     "data": {
      "text/html": [
       "<div>\n",
       "<style scoped>\n",
       "    .dataframe tbody tr th:only-of-type {\n",
       "        vertical-align: middle;\n",
       "    }\n",
       "\n",
       "    .dataframe tbody tr th {\n",
       "        vertical-align: top;\n",
       "    }\n",
       "\n",
       "    .dataframe thead th {\n",
       "        text-align: right;\n",
       "    }\n",
       "</style>\n",
       "<table border=\"1\" class=\"dataframe\">\n",
       "  <thead>\n",
       "    <tr style=\"text-align: right;\">\n",
       "      <th></th>\n",
       "      <th>col1</th>\n",
       "      <th>col2</th>\n",
       "      <th>col3</th>\n",
       "      <th>col4</th>\n",
       "    </tr>\n",
       "  </thead>\n",
       "  <tbody>\n",
       "    <tr>\n",
       "      <th>a</th>\n",
       "      <td>0.450681</td>\n",
       "      <td>0.625534</td>\n",
       "      <td>0.733230</td>\n",
       "      <td>0.99</td>\n",
       "    </tr>\n",
       "    <tr>\n",
       "      <th>b</th>\n",
       "      <td>-0.407159</td>\n",
       "      <td>-0.265861</td>\n",
       "      <td>0.234360</td>\n",
       "      <td>0.99</td>\n",
       "    </tr>\n",
       "    <tr>\n",
       "      <th>c</th>\n",
       "      <td>0.470539</td>\n",
       "      <td>1.342299</td>\n",
       "      <td>-0.862745</td>\n",
       "      <td>0.99</td>\n",
       "    </tr>\n",
       "    <tr>\n",
       "      <th>d</th>\n",
       "      <td>-0.205332</td>\n",
       "      <td>2.040450</td>\n",
       "      <td>1.040871</td>\n",
       "      <td>0.99</td>\n",
       "    </tr>\n",
       "    <tr>\n",
       "      <th>e</th>\n",
       "      <td>1.197232</td>\n",
       "      <td>0.732496</td>\n",
       "      <td>-0.625110</td>\n",
       "      <td>0.99</td>\n",
       "    </tr>\n",
       "  </tbody>\n",
       "</table>\n",
       "</div>"
      ],
      "text/plain": [
       "       col1      col2      col3  col4\n",
       "a  0.450681  0.625534  0.733230  0.99\n",
       "b -0.407159 -0.265861  0.234360  0.99\n",
       "c  0.470539  1.342299 -0.862745  0.99\n",
       "d -0.205332  2.040450  1.040871  0.99\n",
       "e  1.197232  0.732496 -0.625110  0.99"
      ]
     },
     "execution_count": 8,
     "metadata": {},
     "output_type": "execute_result"
    }
   ],
   "source": [
    "##inserting a column in a Dataframe\n",
    "a['col4']=0.99\n",
    "a"
   ]
  },
  {
   "cell_type": "code",
   "execution_count": 9,
   "metadata": {},
   "outputs": [
    {
     "data": {
      "text/html": [
       "<div>\n",
       "<style scoped>\n",
       "    .dataframe tbody tr th:only-of-type {\n",
       "        vertical-align: middle;\n",
       "    }\n",
       "\n",
       "    .dataframe tbody tr th {\n",
       "        vertical-align: top;\n",
       "    }\n",
       "\n",
       "    .dataframe thead th {\n",
       "        text-align: right;\n",
       "    }\n",
       "</style>\n",
       "<table border=\"1\" class=\"dataframe\">\n",
       "  <thead>\n",
       "    <tr style=\"text-align: right;\">\n",
       "      <th></th>\n",
       "      <th>col1</th>\n",
       "      <th>col2</th>\n",
       "      <th>col3</th>\n",
       "      <th>col4</th>\n",
       "      <th>col5</th>\n",
       "    </tr>\n",
       "  </thead>\n",
       "  <tbody>\n",
       "    <tr>\n",
       "      <th>a</th>\n",
       "      <td>0.450681</td>\n",
       "      <td>0.625534</td>\n",
       "      <td>0.733230</td>\n",
       "      <td>0.99</td>\n",
       "      <td>0.34</td>\n",
       "    </tr>\n",
       "    <tr>\n",
       "      <th>b</th>\n",
       "      <td>-0.407159</td>\n",
       "      <td>-0.265861</td>\n",
       "      <td>0.234360</td>\n",
       "      <td>0.99</td>\n",
       "      <td>0.34</td>\n",
       "    </tr>\n",
       "    <tr>\n",
       "      <th>c</th>\n",
       "      <td>0.470539</td>\n",
       "      <td>1.342299</td>\n",
       "      <td>-0.862745</td>\n",
       "      <td>0.99</td>\n",
       "      <td>0.34</td>\n",
       "    </tr>\n",
       "    <tr>\n",
       "      <th>d</th>\n",
       "      <td>-0.205332</td>\n",
       "      <td>2.040450</td>\n",
       "      <td>1.040871</td>\n",
       "      <td>0.99</td>\n",
       "      <td>0.34</td>\n",
       "    </tr>\n",
       "    <tr>\n",
       "      <th>e</th>\n",
       "      <td>1.197232</td>\n",
       "      <td>0.732496</td>\n",
       "      <td>-0.625110</td>\n",
       "      <td>0.99</td>\n",
       "      <td>0.34</td>\n",
       "    </tr>\n",
       "  </tbody>\n",
       "</table>\n",
       "</div>"
      ],
      "text/plain": [
       "       col1      col2      col3  col4  col5\n",
       "a  0.450681  0.625534  0.733230  0.99  0.34\n",
       "b -0.407159 -0.265861  0.234360  0.99  0.34\n",
       "c  0.470539  1.342299 -0.862745  0.99  0.34\n",
       "d -0.205332  2.040450  1.040871  0.99  0.34\n",
       "e  1.197232  0.732496 -0.625110  0.99  0.34"
      ]
     },
     "execution_count": 9,
     "metadata": {},
     "output_type": "execute_result"
    }
   ],
   "source": [
    "#inserting a column in a Dataframe\n",
    "a['col5']=0.34\n",
    "a"
   ]
  },
  {
   "cell_type": "code",
   "execution_count": 15,
   "metadata": {},
   "outputs": [
    {
     "data": {
      "text/html": [
       "<div>\n",
       "<style scoped>\n",
       "    .dataframe tbody tr th:only-of-type {\n",
       "        vertical-align: middle;\n",
       "    }\n",
       "\n",
       "    .dataframe tbody tr th {\n",
       "        vertical-align: top;\n",
       "    }\n",
       "\n",
       "    .dataframe thead th {\n",
       "        text-align: right;\n",
       "    }\n",
       "</style>\n",
       "<table border=\"1\" class=\"dataframe\">\n",
       "  <thead>\n",
       "    <tr style=\"text-align: right;\">\n",
       "      <th></th>\n",
       "      <th>col1</th>\n",
       "      <th>col2</th>\n",
       "      <th>col3</th>\n",
       "      <th>col4</th>\n",
       "      <th>col5</th>\n",
       "      <th>col6</th>\n",
       "    </tr>\n",
       "  </thead>\n",
       "  <tbody>\n",
       "    <tr>\n",
       "      <th>a</th>\n",
       "      <td>0.450681</td>\n",
       "      <td>0.625534</td>\n",
       "      <td>0.733230</td>\n",
       "      <td>0.99</td>\n",
       "      <td>0.34</td>\n",
       "      <td>0.450681</td>\n",
       "    </tr>\n",
       "    <tr>\n",
       "      <th>b</th>\n",
       "      <td>-0.407159</td>\n",
       "      <td>-0.265861</td>\n",
       "      <td>0.234360</td>\n",
       "      <td>0.99</td>\n",
       "      <td>0.34</td>\n",
       "      <td>-0.407159</td>\n",
       "    </tr>\n",
       "    <tr>\n",
       "      <th>c</th>\n",
       "      <td>0.470539</td>\n",
       "      <td>1.342299</td>\n",
       "      <td>-0.862745</td>\n",
       "      <td>0.99</td>\n",
       "      <td>0.34</td>\n",
       "      <td>NaN</td>\n",
       "    </tr>\n",
       "    <tr>\n",
       "      <th>d</th>\n",
       "      <td>-0.205332</td>\n",
       "      <td>2.040450</td>\n",
       "      <td>1.040871</td>\n",
       "      <td>0.99</td>\n",
       "      <td>0.34</td>\n",
       "      <td>-0.205332</td>\n",
       "    </tr>\n",
       "    <tr>\n",
       "      <th>e</th>\n",
       "      <td>1.197232</td>\n",
       "      <td>0.732496</td>\n",
       "      <td>-0.625110</td>\n",
       "      <td>0.99</td>\n",
       "      <td>0.34</td>\n",
       "      <td>NaN</td>\n",
       "    </tr>\n",
       "  </tbody>\n",
       "</table>\n",
       "</div>"
      ],
      "text/plain": [
       "       col1      col2      col3  col4  col5      col6\n",
       "a  0.450681  0.625534  0.733230  0.99  0.34  0.450681\n",
       "b -0.407159 -0.265861  0.234360  0.99  0.34 -0.407159\n",
       "c  0.470539  1.342299 -0.862745  0.99  0.34       NaN\n",
       "d -0.205332  2.040450  1.040871  0.99  0.34 -0.205332\n",
       "e  1.197232  0.732496 -0.625110  0.99  0.34       NaN"
      ]
     },
     "execution_count": 15,
     "metadata": {},
     "output_type": "execute_result"
    }
   ],
   "source": [
    "#inserting a column in a Dataframe\n",
    "a['col6']=a[a['col3']>0]\n",
    "a"
   ]
  },
  {
   "cell_type": "code",
   "execution_count": 16,
   "metadata": {},
   "outputs": [
    {
     "data": {
      "text/plain": [
       "Index(['col1', 'col2', 'col3', 'col4', 'col5', 'col6'], dtype='object')"
      ]
     },
     "execution_count": 16,
     "metadata": {},
     "output_type": "execute_result"
    }
   ],
   "source": [
    "a.columns"
   ]
  },
  {
   "cell_type": "code",
   "execution_count": 17,
   "metadata": {},
   "outputs": [
    {
     "data": {
      "text/plain": [
       "Index(['a', 'b', 'c', 'd', 'e'], dtype='object')"
      ]
     },
     "execution_count": 17,
     "metadata": {},
     "output_type": "execute_result"
    }
   ],
   "source": [
    "a.index"
   ]
  },
  {
   "cell_type": "code",
   "execution_count": 19,
   "metadata": {},
   "outputs": [
    {
     "data": {
      "text/html": [
       "<div>\n",
       "<style scoped>\n",
       "    .dataframe tbody tr th:only-of-type {\n",
       "        vertical-align: middle;\n",
       "    }\n",
       "\n",
       "    .dataframe tbody tr th {\n",
       "        vertical-align: top;\n",
       "    }\n",
       "\n",
       "    .dataframe thead th {\n",
       "        text-align: right;\n",
       "    }\n",
       "</style>\n",
       "<table border=\"1\" class=\"dataframe\">\n",
       "  <thead>\n",
       "    <tr style=\"text-align: right;\">\n",
       "      <th></th>\n",
       "      <th>col1</th>\n",
       "      <th>col2</th>\n",
       "      <th>col3</th>\n",
       "      <th>col4</th>\n",
       "      <th>col5</th>\n",
       "      <th>col6</th>\n",
       "    </tr>\n",
       "  </thead>\n",
       "  <tbody>\n",
       "    <tr>\n",
       "      <th>a</th>\n",
       "      <td>0.450681</td>\n",
       "      <td>0.625534</td>\n",
       "      <td>0.733230</td>\n",
       "      <td>0.99</td>\n",
       "      <td>0.34</td>\n",
       "      <td>0.450681</td>\n",
       "    </tr>\n",
       "    <tr>\n",
       "      <th>b</th>\n",
       "      <td>-0.407159</td>\n",
       "      <td>-0.265861</td>\n",
       "      <td>0.234360</td>\n",
       "      <td>0.99</td>\n",
       "      <td>0.34</td>\n",
       "      <td>-0.407159</td>\n",
       "    </tr>\n",
       "    <tr>\n",
       "      <th>c</th>\n",
       "      <td>0.470539</td>\n",
       "      <td>1.342299</td>\n",
       "      <td>-0.862745</td>\n",
       "      <td>0.99</td>\n",
       "      <td>0.34</td>\n",
       "      <td>NaN</td>\n",
       "    </tr>\n",
       "    <tr>\n",
       "      <th>d</th>\n",
       "      <td>-0.205332</td>\n",
       "      <td>2.040450</td>\n",
       "      <td>1.040871</td>\n",
       "      <td>0.99</td>\n",
       "      <td>0.34</td>\n",
       "      <td>-0.205332</td>\n",
       "    </tr>\n",
       "    <tr>\n",
       "      <th>e</th>\n",
       "      <td>1.197232</td>\n",
       "      <td>0.732496</td>\n",
       "      <td>-0.625110</td>\n",
       "      <td>0.99</td>\n",
       "      <td>0.34</td>\n",
       "      <td>NaN</td>\n",
       "    </tr>\n",
       "    <tr>\n",
       "      <th>f</th>\n",
       "      <td>1.000000</td>\n",
       "      <td>2.000000</td>\n",
       "      <td>3.000000</td>\n",
       "      <td>4.00</td>\n",
       "      <td>5.00</td>\n",
       "      <td>6</td>\n",
       "    </tr>\n",
       "  </tbody>\n",
       "</table>\n",
       "</div>"
      ],
      "text/plain": [
       "       col1      col2      col3  col4  col5      col6\n",
       "a  0.450681  0.625534  0.733230  0.99  0.34  0.450681\n",
       "b -0.407159 -0.265861  0.234360  0.99  0.34 -0.407159\n",
       "c  0.470539  1.342299 -0.862745  0.99  0.34       NaN\n",
       "d -0.205332  2.040450  1.040871  0.99  0.34 -0.205332\n",
       "e  1.197232  0.732496 -0.625110  0.99  0.34       NaN\n",
       "f  1.000000  2.000000  3.000000  4.00  5.00         6"
      ]
     },
     "execution_count": 19,
     "metadata": {},
     "output_type": "execute_result"
    }
   ],
   "source": [
    "#inserting a row in a DataFrame\n",
    "a=a.append(pd.DataFrame({'col1':1,'col2':2,'col3':3,'col4':4,'col5':5,'col6':6},index=['f']))\n",
    "a"
   ]
  },
  {
   "cell_type": "code",
   "execution_count": 20,
   "metadata": {},
   "outputs": [
    {
     "data": {
      "text/plain": [
       "6"
      ]
     },
     "execution_count": 20,
     "metadata": {},
     "output_type": "execute_result"
    }
   ],
   "source": [
    "a['col2'].value_counts().sum()#it counts only unique index sum"
   ]
  },
  {
   "cell_type": "code",
   "execution_count": 22,
   "metadata": {},
   "outputs": [
    {
     "data": {
      "text/plain": [
       "6.474917310575333"
      ]
     },
     "execution_count": 22,
     "metadata": {},
     "output_type": "execute_result"
    }
   ],
   "source": [
    "a['col2'].sum()#it counts all sum"
   ]
  },
  {
   "cell_type": "code",
   "execution_count": 24,
   "metadata": {},
   "outputs": [
    {
     "name": "stdout",
     "output_type": "stream",
     "text": [
      "a    0.625534\n",
      "b    0.359673\n",
      "c    1.701972\n",
      "d    3.742421\n",
      "e    4.474917\n",
      "f    6.474917\n",
      "Name: col2, dtype: float64\n"
     ]
    }
   ],
   "source": [
    "print(a['col2'].cumsum())"
   ]
  },
  {
   "cell_type": "code",
   "execution_count": 25,
   "metadata": {},
   "outputs": [
    {
     "data": {
      "text/plain": [
       "-0.6672931236129913"
      ]
     },
     "execution_count": 25,
     "metadata": {},
     "output_type": "execute_result"
    }
   ],
   "source": [
    "a['col2'].prod()"
   ]
  },
  {
   "cell_type": "code",
   "execution_count": 26,
   "metadata": {},
   "outputs": [
    {
     "data": {
      "text/plain": [
       "a    0.625534\n",
       "b   -0.166305\n",
       "c   -0.223232\n",
       "d   -0.455493\n",
       "e   -0.333647\n",
       "f   -0.667293\n",
       "Name: col2, dtype: float64"
      ]
     },
     "execution_count": 26,
     "metadata": {},
     "output_type": "execute_result"
    }
   ],
   "source": [
    "a['col2'].cumprod()"
   ]
  },
  {
   "cell_type": "code",
   "execution_count": 27,
   "metadata": {},
   "outputs": [
    {
     "data": {
      "text/plain": [
       "2.040449568873648"
      ]
     },
     "execution_count": 27,
     "metadata": {},
     "output_type": "execute_result"
    }
   ],
   "source": [
    "a['col2'].max()"
   ]
  },
  {
   "cell_type": "code",
   "execution_count": 28,
   "metadata": {},
   "outputs": [
    {
     "data": {
      "text/plain": [
       "-0.26586135032399555"
      ]
     },
     "execution_count": 28,
     "metadata": {},
     "output_type": "execute_result"
    }
   ],
   "source": [
    "a['col2'].min()"
   ]
  },
  {
   "cell_type": "code",
   "execution_count": null,
   "metadata": {},
   "outputs": [],
   "source": []
  }
 ],
 "metadata": {
  "kernelspec": {
   "display_name": "Python 3",
   "language": "python",
   "name": "python3"
  },
  "language_info": {
   "codemirror_mode": {
    "name": "ipython",
    "version": 3
   },
   "file_extension": ".py",
   "mimetype": "text/x-python",
   "name": "python",
   "nbconvert_exporter": "python",
   "pygments_lexer": "ipython3",
   "version": "3.8.3"
  }
 },
 "nbformat": 4,
 "nbformat_minor": 4
}
