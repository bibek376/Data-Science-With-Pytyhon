{
 "cells": [
  {
   "cell_type": "code",
   "execution_count": 2,
   "metadata": {},
   "outputs": [
    {
     "name": "stdout",
     "output_type": "stream",
     "text": [
      "hello i am \\n bibek\n"
     ]
    }
   ],
   "source": [
    "x=r\"hello i am \\n bibek\"\n",
    "print(x)#with the help of r will print as it is."
   ]
  },
  {
   "cell_type": "code",
   "execution_count": 4,
   "metadata": {},
   "outputs": [
    {
     "name": "stdout",
     "output_type": "stream",
     "text": [
      "C:\\Users\\msi\\Desktop\\SEM 5\\CG\n",
      "C:\\\\Users\\\\msi\\\\Desktop\\\\SEM 5\\\\CG\n"
     ]
    }
   ],
   "source": [
    "x=\"C:\\\\Users\\\\msi\\\\Desktop\\\\SEM 5\\\\CG\"\n",
    "print(x)\n",
    "x=r\"C:\\\\Users\\\\msi\\\\Desktop\\\\SEM 5\\\\CG\"\n",
    "print(x)"
   ]
  },
  {
   "cell_type": "code",
   "execution_count": 8,
   "metadata": {},
   "outputs": [
    {
     "name": "stdout",
     "output_type": "stream",
     "text": [
      "['shubham', 'shyrans', 'sovit', 'suman', 'santosh']\n"
     ]
    }
   ],
   "source": [
    "import re\n",
    "x=[\"bibek\",\"nanda\",\"shubham\",\"shyrans\",\"sovit\",\"suman\",\"santosh\",\"tauhid\",\"peace\",\"kelvin\"]\n",
    "x=list(filter(lambda y: re.match(r\"s\",y),x))#return whose name start with s:\n",
    "print(x)"
   ]
  },
  {
   "cell_type": "code",
   "execution_count": 10,
   "metadata": {},
   "outputs": [
    {
     "name": "stdout",
     "output_type": "stream",
     "text": [
      "['shyrans']\n"
     ]
    }
   ],
   "source": [
    "import re\n",
    "x=[\"bibek\",\"nanda\",\"shubham\",\"shyrans\",\"sovit\",\"suman\",\"santosh\",\"tauhid\",\"peace\",\"kelvin\"]\n",
    "x=list(filter(lambda y:re.match(r\".*s$\",y),x))#return the value that is end with n.\n",
    "print(x)"
   ]
  },
  {
   "cell_type": "code",
   "execution_count": 2,
   "metadata": {},
   "outputs": [
    {
     "name": "stdout",
     "output_type": "stream",
     "text": [
      "['shubham', 'shyrans', 'santosh', 'tauhid']\n"
     ]
    }
   ],
   "source": [
    "import re\n",
    "x=[\"bibek\",\"nanda\",\"shubham\",\"shyrans\",\"sovit\",\"suman\",\"santosh\",\"tauhid\",\"peace\",\"kelvin\"]\n",
    "x=list(filter(lambda y:re.match(r\".*h.*\",y),x))#it will return all the value that contain h.\n",
    "print(x)"
   ]
  },
  {
   "cell_type": "code",
   "execution_count": 8,
   "metadata": {},
   "outputs": [
    {
     "name": "stdout",
     "output_type": "stream",
     "text": [
      "['shubham', 'shyrans', 'sovit', 'suman', 'santosh']\n"
     ]
    }
   ],
   "source": [
    "import re\n",
    "x=[\"bibek\",\"nanda\",\"shubham\",\"shyrans\",\"sovit\",\"suman\",\"santosh\",\"tauhid\",\"peace\",\"kelvin\"]\n",
    "x=list(filter(lambda y:re.match(r\"(h|d|s)\",y),x))#return value if any name contain h,d,s.\n",
    "print(x)"
   ]
  },
  {
   "cell_type": "code",
   "execution_count": 7,
   "metadata": {},
   "outputs": [
    {
     "name": "stdout",
     "output_type": "stream",
     "text": [
      "enter what you want to search?bibek\n",
      "3 bibek\n"
     ]
    }
   ],
   "source": [
    "x=\"hello i am bibek\"\n",
    "y=x.split(\" \")\n",
    "search=input(\"enter what you want to search?\")\n",
    "for i in y:\n",
    "    if search==i:\n",
    "        print(y.index(search),i)"
   ]
  },
  {
   "cell_type": "code",
   "execution_count": 5,
   "metadata": {},
   "outputs": [
    {
     "name": "stdout",
     "output_type": "stream",
     "text": [
      "enter email id ?cu.18bcs6728@gmail.com\n",
      "valid email:\n",
      "enter email id ?bibekrawat123!gmail.com\n",
      "invalid email\n"
     ]
    }
   ],
   "source": [
    "#regular expression to extract the email from text.\n",
    "import re\n",
    "for i in range(2):\n",
    "    x=input(\"enter email id ?\")\n",
    "    regex=\"[\\w.]+@[\\w.]+\\.[a-zA-Z]{2,6}\"\n",
    "    if (re.search(regex,x)):\n",
    "        print(\"valid email:\")\n",
    "    else:\n",
    "        print(\"invalid email\")"
   ]
  },
  {
   "cell_type": "code",
   "execution_count": 2,
   "metadata": {},
   "outputs": [
    {
     "name": "stdout",
     "output_type": "stream",
     "text": [
      "['5', '678']\n"
     ]
    }
   ],
   "source": [
    "import re\n",
    "x=\"hello 5 bibek i ma alexa 678 i love python.\"\n",
    "y=re.findall(\"\\d+\",x)\n",
    "print(y)\n"
   ]
  },
  {
   "cell_type": "code",
   "execution_count": 6,
   "metadata": {},
   "outputs": [
    {
     "name": "stdout",
     "output_type": "stream",
     "text": [
      "['2', '7', '8']\n"
     ]
    }
   ],
   "source": [
    "import re\n",
    "x=\"hello 2 i am carlos78\"\n",
    "x=re.findall(\"\\d\",x)\n",
    "print(x)"
   ]
  },
  {
   "cell_type": "code",
   "execution_count": null,
   "metadata": {},
   "outputs": [],
   "source": [
    "#match() function--->if word is present at begining of a string\n",
    "#search function----->if word is present any place in string\n",
    "#findall function()--->if word is present in string and return all the frequency of that word."
   ]
  },
  {
   "cell_type": "code",
   "execution_count": 5,
   "metadata": {},
   "outputs": [
    {
     "name": "stdout",
     "output_type": "stream",
     "text": [
      "<re.Match object; span=(0, 5), match='hello'>\n",
      "hello\n"
     ]
    }
   ],
   "source": [
    "import re\n",
    "x=r\"hello python lover i am your future.\"\n",
    "#it print a word that is begining at a string.\n",
    "y=re.match(\"hello\",x)\n",
    "print(y)\n",
    "print(y.group())#printing a exact word."
   ]
  },
  {
   "cell_type": "code",
   "execution_count": 20,
   "metadata": {},
   "outputs": [
    {
     "name": "stdout",
     "output_type": "stream",
     "text": [
      "nepal\n"
     ]
    }
   ],
   "source": [
    "import re\n",
    "x=\"hello gyes i am from nepal i love nepal\"\n",
    "x=re.search(\"nepal\",x)#it print a word that is in string.\n",
    "print(x.group())"
   ]
  },
  {
   "cell_type": "code",
   "execution_count": 27,
   "metadata": {},
   "outputs": [
    {
     "name": "stdout",
     "output_type": "stream",
     "text": [
      "['from', 'nepal', 'love', 'nepal']\n"
     ]
    }
   ],
   "source": [
    "import re\n",
    "x=\"hello gyes i am from nepal i love nepal\"\n",
    "x=re.findall(\"(nepal|from|love)\",x)#it will print all the value that we want to search\n",
    "print(x)"
   ]
  },
  {
   "cell_type": "code",
   "execution_count": 31,
   "metadata": {},
   "outputs": [
    {
     "name": "stdout",
     "output_type": "stream",
     "text": [
      "['from', 'Nepal', 'love', 'nepal', 'NEPAL']\n"
     ]
    }
   ],
   "source": [
    "#use of IGNORECASE\n",
    "import re\n",
    "x=\"hello gyes i am from Nepal i love nepal,NEPAL12\"\n",
    "x=re.findall(\"(nepal|from|love)\",x,re.IGNORECASE)#it will print all the value and use upper and lowercase as well.\n",
    "print(x)"
   ]
  },
  {
   "cell_type": "code",
   "execution_count": 47,
   "metadata": {},
   "outputs": [
    {
     "name": "stdout",
     "output_type": "stream",
     "text": [
      "['hello']\n",
      "['Hey']\n"
     ]
    }
   ],
   "source": [
    "#return value if that is present at the begining of the string.\n",
    "import re\n",
    "x=r\"hello gyes i am from Nepal i love nepal,NEPAL12\"\n",
    "y=r\"Hey gyes i am from Nepal i love nepal,NEPAL12\"\n",
    "x=re.findall(\"\\Ahello\",x)\n",
    "y=re.findall(\"\\AHey\",y)\n",
    "print(x)\n",
    "print(y)"
   ]
  },
  {
   "cell_type": "code",
   "execution_count": 55,
   "metadata": {},
   "outputs": [
    {
     "name": "stdout",
     "output_type": "stream",
     "text": [
      "['al', 'al']\n"
     ]
    }
   ],
   "source": [
    "#return if value is present in lastan dfirst position  of the string value.\n",
    "import re\n",
    "x=r\"hello gyes i am from Nepal i love nepal,NEPAL12\"\n",
    "#x=re.findall(r\"\\bNe\",x)\n",
    "x=re.findall(r\"al\\b\",x)\n",
    "print(x)"
   ]
  },
  {
   "cell_type": "code",
   "execution_count": 61,
   "metadata": {},
   "outputs": [
    {
     "name": "stdout",
     "output_type": "stream",
     "text": [
      "['ll', 'l', 'l']\n"
     ]
    }
   ],
   "source": [
    "#\\B returns a match where the specified pattern is present, but NOT at the beginning (or at the end) of a word.\n",
    "import re\n",
    "x=\"hello gyes i am from Nepal i love nepal,NEPAL12\"\n",
    "#x=re.findall(r\"\\Bl\",x)\n",
    "x=re.findall(r\"\\Bl+\",x)\n",
    "print(x)"
   ]
  },
  {
   "cell_type": "code",
   "execution_count": 68,
   "metadata": {},
   "outputs": [
    {
     "name": "stdout",
     "output_type": "stream",
     "text": [
      "yes:\n",
      "['2', '19']\n"
     ]
    }
   ],
   "source": [
    "#\\d returns a match where the string contains digits (numbers from 0-9)\n",
    "import re\n",
    "x=\"2 million monthly visits since Jan'19.\"\n",
    "x=re.findall(\"\\d\",x)\n",
    "#x=re.findall(\"\\d+\",x)\n",
    "if (x):\n",
    "    print(\"yes:\")\n",
    "else:\n",
    "    print(\"no\")\n",
    "print(x)"
   ]
  },
  {
   "cell_type": "code",
   "execution_count": 70,
   "metadata": {},
   "outputs": [
    {
     "name": "stdout",
     "output_type": "stream",
     "text": [
      "['2', 'million', 'monthly', 'visits', 'since', 'Jan', '19']\n"
     ]
    }
   ],
   "source": [
    "#\\w helps in extraction of alphanumeric characters only i.e(a-zA-z0-9)\n",
    "import re\n",
    "x=\"2 million monthly visits since Jan'19.\"\n",
    "x=re.findall(\"\\w+\",x)#it won't print any spaces and other special character.\n",
    "print(x)"
   ]
  },
  {
   "cell_type": "code",
   "execution_count": 77,
   "metadata": {},
   "outputs": [
    {
     "name": "stdout",
     "output_type": "stream",
     "text": [
      "['mi', 'mo']\n",
      "['mill', 'mont']\n"
     ]
    }
   ],
   "source": [
    "#(.) matches any character (except newline character)\n",
    "import re\n",
    "x=\"2 million monthly visits since Jan'19.\"\n",
    "x1=re.findall(\"m.\",x)\n",
    "x2=re.findall(\"m...\",x)\n",
    "print(x1)\n",
    "print(x2)"
   ]
  },
  {
   "cell_type": "code",
   "execution_count": 79,
   "metadata": {},
   "outputs": [
    {
     "name": "stdout",
     "output_type": "stream",
     "text": [
      "['2']\n"
     ]
    }
   ],
   "source": [
    "#(^) starts with\n",
    "import re\n",
    "x=\"2 million monthly visits since Jan'19. nepal\"\n",
    "x1=re.findall(\"^2\",x)#only print if string is start with it.\n",
    "print(x1)"
   ]
  },
  {
   "cell_type": "code",
   "execution_count": 85,
   "metadata": {},
   "outputs": [
    {
     "name": "stdout",
     "output_type": "stream",
     "text": [
      "['nepal']\n"
     ]
    }
   ],
   "source": [
    "#($) ends with\n",
    "import re\n",
    "x=\"2 million monthly visits since Jan'19. nepal\"\n",
    "x1=re.findall(\"nepal$\",x)\n",
    "print(x1)\n"
   ]
  },
  {
   "cell_type": "code",
   "execution_count": 90,
   "metadata": {},
   "outputs": [
    {
     "name": "stdout",
     "output_type": "stream",
     "text": [
      "['ssa', 'ssaaa', 'ssaa', 'ssaa', 'ssa']\n"
     ]
    }
   ],
   "source": [
    "#(*) matches for zero or more occurences of the pattern to the left of it\n",
    "import re\n",
    "x=\"ssa,ssssaaa,ssaa,sssaa,sssa\"\n",
    "#print 'ss' followed by 0 or more an ending with 'a' character\n",
    "#x=re.findall(\"ssa+a\",x)\n",
    "x=re.findall(\"ssa*a\",x)\n",
    "print(x)"
   ]
  },
  {
   "cell_type": "code",
   "execution_count": 91,
   "metadata": {},
   "outputs": [
    {
     "name": "stdout",
     "output_type": "stream",
     "text": [
      "['easy', 'eay']\n"
     ]
    }
   ],
   "source": [
    "#(?) matches zero or one occurrence of the pattern left to it.\n",
    "import re\n",
    "x=\"easy easssy eay ey\"\n",
    "x=re.findall(\"eas?y\",x)\n",
    "print(x)"
   ]
  },
  {
   "cell_type": "code",
   "execution_count": 98,
   "metadata": {},
   "outputs": [
    {
     "name": "stdout",
     "output_type": "stream",
     "text": [
      "['a', 'a', 'a', 'a', 'c', 'a', 'ba']\n",
      "['epal', 'has', 'a', 'diverse', 'geography', 'including', 'fertile', 'plains', 'subalpine', 'forested', 'hills']\n"
     ]
    }
   ],
   "source": [
    "#A set is a bunch of characters inside a pair of square brackets [ ] with a special meaning.\n",
    "import re\n",
    "x=\"Nepal has a diverse geography, including fertile plains, subalpine forested hills,\"\n",
    "x1=re.findall(\"[abc]+\",x)\n",
    "x2=re.findall(\"[a-z]+\",x)\n",
    "#x2=re.findall(\"[a-z]\",x)\n",
    "print(x1)\n",
    "print(x2)"
   ]
  },
  {
   "cell_type": "code",
   "execution_count": 108,
   "metadata": {},
   "outputs": [
    {
     "name": "stdout",
     "output_type": "stream",
     "text": [
      "['N']\n"
     ]
    }
   ],
   "source": [
    "#[^] Check whether string has other characters mentioned after ^\n",
    "x=\"Nepal has a diverse geography, including fertile plains, subalpine forested hills,\"\n",
    "x1=re.findall(\"[^(a-z), ]\",x)\n",
    "print(x1)"
   ]
  },
  {
   "cell_type": "code",
   "execution_count": 115,
   "metadata": {},
   "outputs": [
    {
     "name": "stdout",
     "output_type": "stream",
     "text": [
      "['@gmail', '.com']\n"
     ]
    }
   ],
   "source": [
    "import re\n",
    "x=\"hello my email is bibekrawat123@gmail.com\"\n",
    "x=re.findall(\"[^a-z0-9 ]\\w+\",x)\n",
    "print(x)"
   ]
  },
  {
   "cell_type": "code",
   "execution_count": 129,
   "metadata": {},
   "outputs": [
    {
     "name": "stdout",
     "output_type": "stream",
     "text": [
      "['user1.1997@gmail.com', 'user2_user@yahoo.com', 'mail@yahoo.com']\n"
     ]
    }
   ],
   "source": [
    "#real life use or complex example.\n",
    "import re\n",
    "x=\"Send a mail to user1.1997@gmail.com, user2_user@yahoo.com and mail@yahoo.com about the meeting@gmail.in\"\n",
    "x=re.findall(\"[a-zA-Z._0-9]+@\\w+\\.com\",x)\n",
    "print(x)"
   ]
  },
  {
   "cell_type": "code",
   "execution_count": 134,
   "metadata": {},
   "outputs": [
    {
     "name": "stdout",
     "output_type": "stream",
     "text": [
      "['2012-06-23', '2020/11/23']\n"
     ]
    }
   ],
   "source": [
    "#extracting a date from a text.\n",
    "import re\n",
    "x=\"i have two date 2012-06-23 and 2020/11/23\"\n",
    "x=re.findall(\"\\d{4}.\\d{2}.\\d{2}\",x)#. is use for printing a hyphan and slash\n",
    "print(x)"
   ]
  },
  {
   "cell_type": "code",
   "execution_count": 135,
   "metadata": {},
   "outputs": [
    {
     "name": "stdout",
     "output_type": "stream",
     "text": [
      "['27 July 2012', '12 August 2012']\n"
     ]
    }
   ],
   "source": [
    "#extracting a date from a text\n",
    "import re\n",
    "x=\"London Olympic 2012 was held from 27 July 2012 to 12 August 2012.\"\n",
    "x=re.findall(\"\\d{2}.\\w{2,8}.\\d{4}\",x)\n",
    "print(x)"
   ]
  },
  {
   "cell_type": "code",
   "execution_count": null,
   "metadata": {},
   "outputs": [],
   "source": []
  }
 ],
 "metadata": {
  "kernelspec": {
   "display_name": "Python 3",
   "language": "python",
   "name": "python3"
  },
  "language_info": {
   "codemirror_mode": {
    "name": "ipython",
    "version": 3
   },
   "file_extension": ".py",
   "mimetype": "text/x-python",
   "name": "python",
   "nbconvert_exporter": "python",
   "pygments_lexer": "ipython3",
   "version": "3.8.3"
  }
 },
 "nbformat": 4,
 "nbformat_minor": 4
}
