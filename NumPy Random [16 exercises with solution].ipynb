{
 "cells": [
  {
   "cell_type": "code",
   "execution_count": 2,
   "metadata": {},
   "outputs": [
    {
     "data": {
      "text/plain": [
       "array([-0.95681299, -0.64654999,  0.71748189,  1.20892149,  1.13077688])"
      ]
     },
     "execution_count": 2,
     "metadata": {},
     "output_type": "execute_result"
    }
   ],
   "source": [
    "#1. Write a NumPy program to generate five random numbers from the normal distribution.\n",
    "import numpy as np\n",
    "x=np.random.normal(size=5)\n",
    "x"
   ]
  },
  {
   "cell_type": "code",
   "execution_count": 4,
   "metadata": {},
   "outputs": [
    {
     "data": {
      "text/plain": [
       "array([15, 10, 18, 12, 13, 12])"
      ]
     },
     "execution_count": 4,
     "metadata": {},
     "output_type": "execute_result"
    }
   ],
   "source": [
    "#Write a NumPy program to generate six random integers between 10 and 30. Go to the editor\n",
    "import numpy as np\n",
    "num=np.random.randint(10,21,size=6)\n",
    "num"
   ]
  },
  {
   "cell_type": "code",
   "execution_count": 17,
   "metadata": {},
   "outputs": [
    {
     "data": {
      "text/plain": [
       "array([[[0.50429985, 0.01055385, 0.62841131],\n",
       "        [0.30354364, 0.84838559, 0.48301847],\n",
       "        [0.18161336, 0.34477106, 0.25446545]],\n",
       "\n",
       "       [[0.79725716, 0.1989899 , 0.78064005],\n",
       "        [0.65053814, 0.4295486 , 0.48876254],\n",
       "        [0.51807499, 0.38786174, 0.71348648]],\n",
       "\n",
       "       [[0.54823162, 0.32220028, 0.23461219],\n",
       "        [0.32842838, 0.4232057 , 0.5398338 ],\n",
       "        [0.66044576, 0.85505257, 0.4858467 ]]])"
      ]
     },
     "execution_count": 17,
     "metadata": {},
     "output_type": "execute_result"
    }
   ],
   "source": [
    "#Write a NumPy program to create a 3x3x3 array with random values.\n",
    "import numpy as np\n",
    "num=np.random.random((3,3,3))\n",
    "num"
   ]
  },
  {
   "cell_type": "code",
   "execution_count": 24,
   "metadata": {},
   "outputs": [
    {
     "data": {
      "text/plain": [
       "array([[0.0753525 , 0.18988259, 0.71522838, 0.90776355, 0.94784647],\n",
       "       [0.0214021 , 0.37536362, 0.37381492, 0.24398623, 0.64104724],\n",
       "       [0.87374556, 0.7120413 , 0.44881377, 0.97404081, 0.34468048],\n",
       "       [0.06526679, 0.13278335, 0.02526801, 0.74547677, 0.25349483],\n",
       "       [0.11417646, 0.68952103, 0.47013545, 0.24816676, 0.93492198]])"
      ]
     },
     "execution_count": 24,
     "metadata": {},
     "output_type": "execute_result"
    }
   ],
   "source": [
    "#Write a NumPy program to create a 5x5 array with random values and find the minimum and maximum values.\n",
    "import numpy as np\n",
    "x=np.random.random((5,5))\n",
    "x"
   ]
  },
  {
   "cell_type": "code",
   "execution_count": 23,
   "metadata": {},
   "outputs": [
    {
     "data": {
      "text/plain": [
       "0.9820693041710868"
      ]
     },
     "execution_count": 23,
     "metadata": {},
     "output_type": "execute_result"
    }
   ],
   "source": [
    "a=x.max()\n",
    "a"
   ]
  },
  {
   "cell_type": "code",
   "execution_count": 22,
   "metadata": {},
   "outputs": [
    {
     "data": {
      "text/plain": [
       "0.03848745727704184"
      ]
     },
     "execution_count": 22,
     "metadata": {},
     "output_type": "execute_result"
    }
   ],
   "source": [
    "b=x.min()\n",
    "b"
   ]
  },
  {
   "cell_type": "code",
   "execution_count": 25,
   "metadata": {},
   "outputs": [
    {
     "data": {
      "text/plain": [
       "array([[0.78552552, 0.03321141, 0.1650028 , 0.60653507],\n",
       "       [0.42118361, 0.79243747, 0.57908004, 0.73374733],\n",
       "       [0.50347526, 0.58515702, 0.3522935 , 0.60502814],\n",
       "       [0.96848504, 0.7225067 , 0.60771182, 0.45496919],\n",
       "       [0.69695475, 0.58792607, 0.44457341, 0.7044    ],\n",
       "       [0.86667264, 0.84376641, 0.68309596, 0.77364822],\n",
       "       [0.08965369, 0.83421165, 0.07115034, 0.6081686 ],\n",
       "       [0.65015358, 0.98086515, 0.21777227, 0.03473126],\n",
       "       [0.46237923, 0.00780734, 0.38464768, 0.0125003 ],\n",
       "       [0.41112875, 0.26122886, 0.70434044, 0.40225122]])"
      ]
     },
     "execution_count": 25,
     "metadata": {},
     "output_type": "execute_result"
    }
   ],
   "source": [
    "#Write a NumPy program to create a random 10x4 array\n",
    "import numpy as np\n",
    "x=np.random.random((10,4))\n",
    "x"
   ]
  },
  {
   "cell_type": "code",
   "execution_count": 29,
   "metadata": {},
   "outputs": [
    {
     "data": {
      "text/plain": [
       "array([[0.78552552, 0.03321141, 0.1650028 , 0.60653507],\n",
       "       [0.42118361, 0.79243747, 0.57908004, 0.73374733],\n",
       "       [0.50347526, 0.58515702, 0.3522935 , 0.60502814],\n",
       "       [0.96848504, 0.7225067 , 0.60771182, 0.45496919],\n",
       "       [0.69695475, 0.58792607, 0.44457341, 0.7044    ]])"
      ]
     },
     "execution_count": 29,
     "metadata": {},
     "output_type": "execute_result"
    }
   ],
   "source": [
    "#extract the first five rows of the array and store them into a variable.\n",
    "y=x[:5]\n",
    "y"
   ]
  },
  {
   "cell_type": "code",
   "execution_count": 5,
   "metadata": {},
   "outputs": [
    {
     "data": {
      "text/plain": [
       "array([ 5,  9,  7,  8,  4,  0,  6,  1, 10,  3,  2])"
      ]
     },
     "execution_count": 5,
     "metadata": {},
     "output_type": "execute_result"
    }
   ],
   "source": [
    "#Write a NumPy program to shuffle numbers between 0 and 10 (inclusive).\n",
    "import numpy as np\n",
    "x=np.arange(0,11)\n",
    "np.random.shuffle(x)\n",
    "x"
   ]
  },
  {
   "cell_type": "code",
   "execution_count": 10,
   "metadata": {},
   "outputs": [
    {
     "data": {
      "text/plain": [
       "array([ 3,  8,  2,  6,  9,  1,  0,  7,  4, 10,  5])"
      ]
     },
     "execution_count": 10,
     "metadata": {},
     "output_type": "execute_result"
    }
   ],
   "source": [
    "#using permutations\n",
    "import numpy as np\n",
    "x=np.random.permutation(11)\n",
    "x"
   ]
  },
  {
   "cell_type": "code",
   "execution_count": 13,
   "metadata": {},
   "outputs": [
    {
     "name": "stdout",
     "output_type": "stream",
     "text": [
      "before normalization\n"
     ]
    },
    {
     "data": {
      "text/plain": [
       "array([[0.43141144, 0.42998835, 0.70907913],\n",
       "       [0.62339514, 0.81456785, 0.21953946],\n",
       "       [0.78085966, 0.8169382 , 0.30202225]])"
      ]
     },
     "execution_count": 13,
     "metadata": {},
     "output_type": "execute_result"
    }
   ],
   "source": [
    "# Write a NumPy program to normalize a 3x3 random matrix\n",
    "import numpy as np\n",
    "x=np.random.random((3,3))\n",
    "print(\"before normalization\")\n",
    "x"
   ]
  },
  {
   "cell_type": "code",
   "execution_count": 10,
   "metadata": {},
   "outputs": [
    {
     "data": {
      "text/plain": [
       "0.8616572609684167"
      ]
     },
     "execution_count": 10,
     "metadata": {},
     "output_type": "execute_result"
    }
   ],
   "source": [
    "y=x.max()\n",
    "y"
   ]
  },
  {
   "cell_type": "code",
   "execution_count": 12,
   "metadata": {},
   "outputs": [
    {
     "name": "stdout",
     "output_type": "stream",
     "text": [
      "after normalization:\n",
      "[[0.40008179 0.96816398 0.62917142]\n",
      " [0.61601461 0.71403938 0.93653277]\n",
      " [0.71687598 1.         0.8560681 ]]\n"
     ]
    }
   ],
   "source": [
    "print(\"after normalization:\")\n",
    "print(x/y)"
   ]
  },
  {
   "cell_type": "code",
   "execution_count": 16,
   "metadata": {},
   "outputs": [
    {
     "data": {
      "text/plain": [
       "array([0.52941622, 0.78104179, 0.95907391, 0.09717069, 0.49098445,\n",
       "       0.24731514, 0.75152101, 0.93250237, 0.56287471, 0.10450647])"
      ]
     },
     "execution_count": 16,
     "metadata": {},
     "output_type": "execute_result"
    }
   ],
   "source": [
    "#Write a NumPy program to create a random vector of size 10 and sort it.\n",
    "import numpy as np\n",
    "x=np.random.random(10)\n",
    "x"
   ]
  },
  {
   "cell_type": "code",
   "execution_count": 17,
   "metadata": {},
   "outputs": [
    {
     "name": "stdout",
     "output_type": "stream",
     "text": [
      "after sorting:\n"
     ]
    },
    {
     "data": {
      "text/plain": [
       "array([0.09717069, 0.10450647, 0.24731514, 0.49098445, 0.52941622,\n",
       "       0.56287471, 0.75152101, 0.78104179, 0.93250237, 0.95907391])"
      ]
     },
     "execution_count": 17,
     "metadata": {},
     "output_type": "execute_result"
    }
   ],
   "source": [
    "print(\"after sorting:\")\n",
    "x.sort()\n",
    "x"
   ]
  },
  {
   "cell_type": "code",
   "execution_count": 22,
   "metadata": {},
   "outputs": [
    {
     "name": "stdout",
     "output_type": "stream",
     "text": [
      "[1 2 3]\n",
      "[1 2 3]\n",
      "enter array is equal or not:\n",
      "True\n"
     ]
    }
   ],
   "source": [
    "#Write a NumPy program to check two random arrays are equal or not\n",
    "import numpy as np\n",
    "x=np.array([1,2,3])\n",
    "y=np.array([1,2,3])\n",
    "print(x)\n",
    "print(y)\n",
    "equal=np.allclose(x,y)\n",
    "print(\"enter array is equal or not:\")\n",
    "print(equal)"
   ]
  },
  {
   "cell_type": "code",
   "execution_count": 23,
   "metadata": {},
   "outputs": [
    {
     "data": {
      "text/plain": [
       "array([0.40016551, 0.7254091 , 0.90301209, 0.97079817, 0.62800161,\n",
       "       0.02425961, 0.25857304, 0.57162324, 0.89801575, 0.90592431,\n",
       "       0.74597306, 0.63218885, 0.06069928, 0.54511888, 0.3417215 ])"
      ]
     },
     "execution_count": 23,
     "metadata": {},
     "output_type": "execute_result"
    }
   ],
   "source": [
    "#Write a NumPy program to create random vector of size 15 and replace the maximum value by -1.\n",
    "import numpy as np\n",
    "x=np.random.random(15)\n",
    "x"
   ]
  },
  {
   "cell_type": "code",
   "execution_count": 33,
   "metadata": {},
   "outputs": [
    {
     "data": {
      "text/plain": [
       "array([ 0.40016551,  0.7254091 , -1.        , -1.        ,  0.62800161,\n",
       "        0.02425961,  0.25857304,  0.57162324,  0.89801575, -1.        ,\n",
       "        0.74597306,  0.63218885,  0.06069928,  0.54511888,  0.3417215 ])"
      ]
     },
     "execution_count": 33,
     "metadata": {},
     "output_type": "execute_result"
    }
   ],
   "source": [
    "# x[3]=-1\n",
    "# x\n",
    "x[x.argmax()]=-1\n",
    "x"
   ]
  },
  {
   "cell_type": "code",
   "execution_count": 1,
   "metadata": {},
   "outputs": [
    {
     "data": {
      "text/plain": [
       "array([[0.59356241, 0.14115558],\n",
       "       [0.66829002, 0.10872032],\n",
       "       [0.4602916 , 0.59802588],\n",
       "       [0.22091859, 0.47369737],\n",
       "       [0.95814699, 0.2610781 ],\n",
       "       [0.68101635, 0.97726369],\n",
       "       [0.00816619, 0.76053427],\n",
       "       [0.8597928 , 0.76987776],\n",
       "       [0.17495098, 0.55221336],\n",
       "       [0.10486806, 0.69861951]])"
      ]
     },
     "execution_count": 1,
     "metadata": {},
     "output_type": "execute_result"
    }
   ],
   "source": [
    "#Write a NumPy program to find point by point distances of a random vector with shape (10,2).\n",
    "#representing coordinates.\n",
    "import numpy as np\n",
    "x=np.random.random((10,2))\n",
    "x"
   ]
  },
  {
   "cell_type": "code",
   "execution_count": 8,
   "metadata": {},
   "outputs": [
    {
     "name": "stdout",
     "output_type": "stream",
     "text": [
      "[1 5 6 7 8 3 4 1 2 3 4 5 1]\n",
      "maximum is:\n",
      "1\n"
     ]
    }
   ],
   "source": [
    "#Write a NumPy program to find the most frequent value in an array.\n",
    "import numpy as np\n",
    "x=np.array([1,5,6,7,8,3,4,1,2,3,4,5,1])\n",
    "print(x)\n",
    "print(\"maximum is:\")\n",
    "print(np.bincount(x).argmax())"
   ]
  },
  {
   "cell_type": "code",
   "execution_count": 11,
   "metadata": {},
   "outputs": [
    {
     "data": {
      "text/plain": [
       "array([1, 0])"
      ]
     },
     "execution_count": 11,
     "metadata": {},
     "output_type": "execute_result"
    }
   ],
   "source": [
    "#Write a NumPy program to find the closest value (to a given scalar) in an array. \n",
    "import numpy as np\n",
    "x=np.random.randint((3,3))\n",
    "x"
   ]
  },
  {
   "cell_type": "code",
   "execution_count": null,
   "metadata": {},
   "outputs": [],
   "source": []
  }
 ],
 "metadata": {
  "kernelspec": {
   "display_name": "Python 3",
   "language": "python",
   "name": "python3"
  },
  "language_info": {
   "codemirror_mode": {
    "name": "ipython",
    "version": 3
   },
   "file_extension": ".py",
   "mimetype": "text/x-python",
   "name": "python",
   "nbconvert_exporter": "python",
   "pygments_lexer": "ipython3",
   "version": "3.8.3"
  }
 },
 "nbformat": 4,
 "nbformat_minor": 4
}
