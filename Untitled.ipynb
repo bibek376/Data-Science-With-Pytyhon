{
 "cells": [
  {
   "cell_type": "code",
   "execution_count": 5,
   "metadata": {},
   "outputs": [
    {
     "name": "stdout",
     "output_type": "stream",
     "text": [
      "hello i am\\n bibek\n",
      "hello i am \n",
      " bibek\n"
     ]
    }
   ],
   "source": [
    "print(r\"hello i am\\n bibek\")\n",
    "print(\"hello i am \\n bibek\")"
   ]
  },
  {
   "cell_type": "code",
   "execution_count": 7,
   "metadata": {},
   "outputs": [
    {
     "name": "stdout",
     "output_type": "stream",
     "text": [
      "C:\\Users\\msi\\Desktop\\SEM 5\\CG\n",
      "C:\\\\Users\\\\msi\\\\Desktop\\\\SEM 5\\\\CG\n"
     ]
    }
   ],
   "source": [
    "print(\"C:\\\\Users\\\\msi\\\\Desktop\\\\SEM 5\\\\CG\")\n",
    "print(r\"C:\\\\Users\\\\msi\\\\Desktop\\\\SEM 5\\\\CG\")"
   ]
  },
  {
   "cell_type": "code",
   "execution_count": 10,
   "metadata": {},
   "outputs": [
    {
     "name": "stdout",
     "output_type": "stream",
     "text": [
      "['shuham', 'santosh', 'shyrans', 'suman', 'sovit', 'saqlin']\n"
     ]
    }
   ],
   "source": [
    "import re\n",
    "x=['bibek','carlos','shuham','nanda','santosh','shyrans','suman','rabin','sovit','tauhid','saqlin']\n",
    "x=list(filter(lambda y:re.match(r\"s\",y),x))#name start with s.\n",
    "print(x)"
   ]
  },
  {
   "cell_type": "code",
   "execution_count": 24,
   "metadata": {},
   "outputs": [
    {
     "name": "stdout",
     "output_type": "stream",
     "text": [
      "['suman', 'rabin', 'saqlin']\n"
     ]
    }
   ],
   "source": [
    "import re\n",
    "x=['bibek','carlos','shuham','nanda','santosh','shyrans','suman','rabin','sovit','tauhid','saqlin']\n",
    "x=list(filter(lambda y:re.search(r\"n$\",y),x))#name ending with n\n",
    "print(x)"
   ]
  },
  {
   "cell_type": "code",
   "execution_count": 26,
   "metadata": {},
   "outputs": [
    {
     "name": "stdout",
     "output_type": "stream",
     "text": [
      "['shuham', 'santosh', 'shyrans', 'tauhid']\n"
     ]
    }
   ],
   "source": [
    "import re\n",
    "x=['bibek','carlos','shuham','nanda','santosh','shyrans','suman','rabin','sovit','tauhid','saqlin']\n",
    "x=list(filter(lambda y:re.match(r\".*h.*\",y),x))\n",
    "print(x)"
   ]
  },
  {
   "cell_type": "code",
   "execution_count": 2,
   "metadata": {},
   "outputs": [
    {
     "name": "stdout",
     "output_type": "stream",
     "text": [
      "['nanda', 'santosh', 'shyrans', 'suman', 'rabin', 'saqlin']\n"
     ]
    }
   ],
   "source": [
    "import re\n",
    "x=['bibek','carlos','shuham','nanda','santosh','shyrans','suman','rabin','sovit','tauhid','saqlin']\n",
    "var1=list(filter(lambda y:re.match(r\".*n.*\",y),x))\n",
    "print(var1)"
   ]
  },
  {
   "cell_type": "code",
   "execution_count": 28,
   "metadata": {},
   "outputs": [
    {
     "name": "stdout",
     "output_type": "stream",
     "text": [
      "['bibek', 'nanda']\n",
      "11\n"
     ]
    }
   ],
   "source": [
    "import re\n",
    "x=['bibek','carlos','shuham','nanda','santosh','shyrans','suman','rabin','sovit','tauhid','saqlin']\n",
    "var1=list(filter(lambda y:re.match(r\"n|b|k\",y),x))\n",
    "print(var1)\n",
    "print(len(x))"
   ]
  },
  {
   "cell_type": "code",
   "execution_count": 9,
   "metadata": {},
   "outputs": [
    {
     "name": "stdout",
     "output_type": "stream",
     "text": [
      "8\n"
     ]
    }
   ],
   "source": [
    "import re\n",
    "x=lambda a,b:a**b\n",
    "print(x(2,3))"
   ]
  },
  {
   "cell_type": "code",
   "execution_count": 12,
   "metadata": {},
   "outputs": [
    {
     "name": "stdout",
     "output_type": "stream",
     "text": [
      "[2, 4, 8, 34]\n",
      "[1, 3, 5, 67, 9]\n"
     ]
    }
   ],
   "source": [
    "#calculate even only\n",
    "data=[1,2,3,4,5,67,8,9,34]\n",
    "even=list(filter(lambda x:(x%2==0),data))\n",
    "print(even)\n",
    "odd=list(filter(lambda x:(x%2!=0),data))\n",
    "print(odd)"
   ]
  },
  {
   "cell_type": "code",
   "execution_count": 20,
   "metadata": {},
   "outputs": [
    {
     "name": "stdout",
     "output_type": "stream",
     "text": [
      "enter what you want to search?bibek\n",
      "bibek 3\n"
     ]
    }
   ],
   "source": [
    "text=\"hello i am bibek\"\n",
    "a=text.split(\" \")\n",
    "x=input(\"enter what you want to search?\")\n",
    "for i in a:\n",
    "    if x==i:\n",
    "        print(x,a.index(x))"
   ]
  },
  {
   "cell_type": "code",
   "execution_count": 50,
   "metadata": {},
   "outputs": [
    {
     "name": "stdout",
     "output_type": "stream",
     "text": [
      "enter email:cu.18bcs6728@gmail.com\n",
      "valid\n"
     ]
    }
   ],
   "source": [
    "import re\n",
    "for i in range(1):\n",
    "    x=input(\"enter email:\")\n",
    "    email_checker=\"[a-zA-Z0-9.]+@[\\w]+.[a-zA-Z{2,3}]\"\n",
    "    if (re.search(email_checker,x)):\n",
    "        print(\"valid\")\n",
    "    else:\n",
    "        print(\"invalid\")"
   ]
  },
  {
   "cell_type": "code",
   "execution_count": 10,
   "metadata": {},
   "outputs": [
    {
     "name": "stdout",
     "output_type": "stream",
     "text": [
      "['54', '64']\n"
     ]
    }
   ],
   "source": [
    "import re\n",
    "text=\"hello 54 i am 64\"\n",
    "x=re.findall(r\"\\d+\",text)\n",
    "#x=re.findall(r\"\\d\",text)\n",
    "print(x)"
   ]
  },
  {
   "cell_type": "code",
   "execution_count": null,
   "metadata": {},
   "outputs": [],
   "source": []
  }
 ],
 "metadata": {
  "kernelspec": {
   "display_name": "Python 3",
   "language": "python",
   "name": "python3"
  }
 },
 "nbformat": 4,
 "nbformat_minor": 4
}
