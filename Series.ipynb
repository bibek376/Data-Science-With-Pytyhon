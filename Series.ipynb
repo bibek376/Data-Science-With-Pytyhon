{
 "cells": [
  {
   "cell_type": "code",
   "execution_count": 22,
   "metadata": {},
   "outputs": [
    {
     "name": "stdout",
     "output_type": "stream",
     "text": [
      "0    122\n",
      "1      3\n",
      "2      4\n",
      "dtype: int64\n"
     ]
    }
   ],
   "source": [
    "#series is updated form of list:\n",
    "from pandas import Series as se\n",
    "arr=se([122,3,4])\n",
    "print(arr)"
   ]
  },
  {
   "cell_type": "code",
   "execution_count": 23,
   "metadata": {},
   "outputs": [
    {
     "name": "stdout",
     "output_type": "stream",
     "text": [
      "[122   3   4]\n",
      "[0, 1, 2]\n"
     ]
    }
   ],
   "source": [
    "print(arr.values)\n",
    "print(list(arr.index))"
   ]
  },
  {
   "cell_type": "code",
   "execution_count": 24,
   "metadata": {},
   "outputs": [
    {
     "name": "stdout",
     "output_type": "stream",
     "text": [
      "nepal    10\n",
      "china    15\n",
      "india     8\n",
      "dtype: int64\n",
      "nepal    False\n",
      "china     True\n",
      "india    False\n",
      "dtype: bool\n",
      "china    15\n",
      "dtype: int64\n",
      "True\n"
     ]
    }
   ],
   "source": [
    "#series with index\n",
    "xyz=se([10,15,8],index=[\"nepal\",\"china\",\"india\"])\n",
    "print(xyz)\n",
    "print(xyz>10)\n",
    "print(xyz[xyz>10])\n",
    "print(\"nepal\" in xyz)#checking nepal is present or not."
   ]
  },
  {
   "cell_type": "code",
   "execution_count": 25,
   "metadata": {},
   "outputs": [
    {
     "data": {
      "text/plain": [
       "{'nepal': 10, 'china': 15, 'india': 8}"
      ]
     },
     "execution_count": 25,
     "metadata": {},
     "output_type": "execute_result"
    }
   ],
   "source": [
    "#to convert series into a dict\n",
    "w_dict=xyz.to_dict()\n",
    "w_dict"
   ]
  },
  {
   "cell_type": "code",
   "execution_count": 26,
   "metadata": {},
   "outputs": [
    {
     "data": {
      "text/plain": [
       "nepal    10\n",
       "china    15\n",
       "india     8\n",
       "dtype: int64"
      ]
     },
     "execution_count": 26,
     "metadata": {},
     "output_type": "execute_result"
    }
   ],
   "source": [
    "#dict to series:\n",
    "w_se=se(w_dict)\n",
    "w_se"
   ]
  },
  {
   "cell_type": "code",
   "execution_count": 28,
   "metadata": {},
   "outputs": [
    {
     "data": {
      "text/plain": [
       "nepal    10.0\n",
       "china    15.0\n",
       "india     8.0\n",
       "usa       NaN\n",
       "dtype: float64"
      ]
     },
     "execution_count": 28,
     "metadata": {},
     "output_type": "execute_result"
    }
   ],
   "source": [
    "country=[\"nepal\",\"china\",\"india\",\"usa\"]\n",
    "arr1=se(w_dict,index=country)\n",
    "arr1"
   ]
  },
  {
   "cell_type": "code",
   "execution_count": 33,
   "metadata": {},
   "outputs": [
    {
     "name": "stdout",
     "output_type": "stream",
     "text": [
      "nepal    False\n",
      "china    False\n",
      "india    False\n",
      "usa       True\n",
      "dtype: bool\n",
      "nepal     True\n",
      "china     True\n",
      "india     True\n",
      "usa      False\n",
      "dtype: bool\n"
     ]
    }
   ],
   "source": [
    "#we can use isnull and notnull to find missing data.\n",
    "import pandas as pd\n",
    "print(pd.isnull(arr1))\n",
    "print(pd.notnull(arr1))"
   ]
  },
  {
   "cell_type": "code",
   "execution_count": 34,
   "metadata": {},
   "outputs": [
    {
     "name": "stdout",
     "output_type": "stream",
     "text": [
      "nepal    10.0\n",
      "china    15.0\n",
      "india     8.0\n",
      "usa       NaN\n",
      "dtype: float64\n"
     ]
    }
   ],
   "source": [
    "print(arr1)"
   ]
  },
  {
   "cell_type": "code",
   "execution_count": 35,
   "metadata": {},
   "outputs": [
    {
     "name": "stdout",
     "output_type": "stream",
     "text": [
      "nepal    10\n",
      "china    15\n",
      "india     8\n",
      "dtype: int64\n"
     ]
    }
   ],
   "source": [
    "print(w_se)"
   ]
  },
  {
   "cell_type": "code",
   "execution_count": 37,
   "metadata": {},
   "outputs": [
    {
     "name": "stdout",
     "output_type": "stream",
     "text": [
      "china    30.0\n",
      "india    16.0\n",
      "nepal    20.0\n",
      "usa       NaN\n",
      "dtype: float64\n"
     ]
    }
   ],
   "source": [
    "a=arr1+w_se\n",
    "print(a)"
   ]
  },
  {
   "cell_type": "code",
   "execution_count": 43,
   "metadata": {},
   "outputs": [
    {
     "data": {
      "text/plain": [
       "china    30.0\n",
       "india    16.0\n",
       "nepal    20.0\n",
       "usa       NaN\n",
       "Name: Data, dtype: float64"
      ]
     },
     "execution_count": 43,
     "metadata": {},
     "output_type": "execute_result"
    }
   ],
   "source": [
    "#we can give the series name\n",
    "a.name=\"Data\"\n",
    "a"
   ]
  },
  {
   "cell_type": "code",
   "execution_count": 46,
   "metadata": {},
   "outputs": [
    {
     "data": {
      "text/plain": [
       "country\n",
       "china    30.0\n",
       "india    16.0\n",
       "nepal    20.0\n",
       "usa       NaN\n",
       "Name: Data, dtype: float64"
      ]
     },
     "execution_count": 46,
     "metadata": {},
     "output_type": "execute_result"
    }
   ],
   "source": [
    "#we can also set the index\n",
    "a.index.name=\"country\"\n",
    "a"
   ]
  },
  {
   "cell_type": "code",
   "execution_count": 47,
   "metadata": {},
   "outputs": [
    {
     "data": {
      "text/plain": [
       "a    10\n",
       "b    20\n",
       "c    30\n",
       "dtype: int64"
      ]
     },
     "execution_count": 47,
     "metadata": {},
     "output_type": "execute_result"
    }
   ],
   "source": [
    "lst=[10,20,30]\n",
    "s1=se(lst,index=[\"a\",\"b\",\"c\"])\n",
    "s1"
   ]
  },
  {
   "cell_type": "code",
   "execution_count": 51,
   "metadata": {},
   "outputs": [
    {
     "name": "stdout",
     "output_type": "stream",
     "text": [
      "[10, 20, 30]\n"
     ]
    }
   ],
   "source": [
    "#x=s1.values\n",
    "x=s1.tolist()\n",
    "print(x)"
   ]
  },
  {
   "cell_type": "code",
   "execution_count": null,
   "metadata": {},
   "outputs": [],
   "source": []
  }
 ],
 "metadata": {
  "kernelspec": {
   "display_name": "Python 3",
   "language": "python",
   "name": "python3"
  },
  "language_info": {
   "codemirror_mode": {
    "name": "ipython",
    "version": 3
   },
   "file_extension": ".py",
   "mimetype": "text/x-python",
   "name": "python",
   "nbconvert_exporter": "python",
   "pygments_lexer": "ipython3",
   "version": "3.8.3"
  }
 },
 "nbformat": 4,
 "nbformat_minor": 4
}
