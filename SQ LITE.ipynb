{
 "cells": [
  {
   "cell_type": "code",
   "execution_count": 4,
   "metadata": {},
   "outputs": [
    {
     "data": {
      "text/plain": [
       "'2.6.0'"
      ]
     },
     "execution_count": 4,
     "metadata": {},
     "output_type": "execute_result"
    }
   ],
   "source": [
    "import sqlite3 as s3\n",
    "s3.version"
   ]
  },
  {
   "cell_type": "code",
   "execution_count": 5,
   "metadata": {},
   "outputs": [],
   "source": [
    "conn=s3.connect('data1.db')"
   ]
  },
  {
   "cell_type": "code",
   "execution_count": 6,
   "metadata": {},
   "outputs": [],
   "source": [
    "cur=conn.cursor()"
   ]
  },
  {
   "cell_type": "code",
   "execution_count": 7,
   "metadata": {},
   "outputs": [],
   "source": [
    "userTable=\"\"\"CREATE TABLE IF NOT EXISTS users(\n",
    "   userid INT PRIMARY KEY,\n",
    "   fname TEXT,\n",
    "   lname TEXT,\n",
    "   gender TEXT);\n",
    "\"\"\"\n",
    "\n",
    "orderTable=\"\"\"CREATE TABLE IF NOT EXISTS orders(\n",
    "   orderid INT PRIMARY KEY,\n",
    "   date TEXT,\n",
    "   userid TEXT,\n",
    "   total TEXT);\n",
    "\"\"\""
   ]
  },
  {
   "cell_type": "code",
   "execution_count": 8,
   "metadata": {},
   "outputs": [],
   "source": [
    "#execute sql query\n",
    "cur.execute(userTable)\n",
    "conn.commit()\n",
    "cur.execute(orderTable)\n",
    "conn.commit()"
   ]
  },
  {
   "cell_type": "code",
   "execution_count": 9,
   "metadata": {},
   "outputs": [],
   "source": [
    "#try loading data\n",
    "cur.execute(\"SELECT * FROM users\").fetchone()\n",
    "cur.execute(\"SELECT * FROM orders\").fetchone()\n",
    "#it'shows empety because there is no data available."
   ]
  },
  {
   "cell_type": "code",
   "execution_count": 10,
   "metadata": {},
   "outputs": [
    {
     "data": {
      "text/plain": [
       "<sqlite3.Cursor at 0x1d20fc5df80>"
      ]
     },
     "execution_count": 10,
     "metadata": {},
     "output_type": "execute_result"
    }
   ],
   "source": [
    "#insert data into database\n",
    "row1=\"\"\"INSERT INTO users(userid,fname,lname,gender)\n",
    "        values('1001','bibek','rawat','male')\"\"\"\n",
    "cur.execute(row1)"
   ]
  },
  {
   "cell_type": "code",
   "execution_count": 11,
   "metadata": {},
   "outputs": [
    {
     "data": {
      "text/plain": [
       "(1001, 'bibek', 'rawat', 'male')"
      ]
     },
     "execution_count": 11,
     "metadata": {},
     "output_type": "execute_result"
    }
   ],
   "source": [
    "#let's fetch the data\n",
    "cur.execute(\"SELECT * FROM users\").fetchone()"
   ]
  },
  {
   "cell_type": "code",
   "execution_count": 12,
   "metadata": {},
   "outputs": [],
   "source": [
    "#insert data into ordertable\n",
    "row2=('2001','binaya','rawat','male')\n",
    "cur.execute(\"INSERT INTO users VALUES(?,?,?,?)\",row2)\n",
    "conn.commit()"
   ]
  },
  {
   "cell_type": "code",
   "execution_count": 13,
   "metadata": {},
   "outputs": [
    {
     "data": {
      "text/plain": [
       "[(1001, 'bibek', 'rawat', 'male'), (2001, 'binaya', 'rawat', 'male')]"
      ]
     },
     "execution_count": 13,
     "metadata": {},
     "output_type": "execute_result"
    }
   ],
   "source": [
    "cur.execute(\"SELECT * FROM users\").fetchmany(1222)"
   ]
  },
  {
   "cell_type": "code",
   "execution_count": 14,
   "metadata": {},
   "outputs": [
    {
     "data": {
      "text/plain": [
       "[(1001, 'bibek', 'rawat', 'male'), (2001, 'binaya', 'rawat', 'male')]"
      ]
     },
     "execution_count": 14,
     "metadata": {},
     "output_type": "execute_result"
    }
   ],
   "source": [
    "cur.execute(\"SELECT * FROM users\").fetchall()"
   ]
  },
  {
   "cell_type": "code",
   "execution_count": 15,
   "metadata": {},
   "outputs": [
    {
     "data": {
      "text/plain": [
       "<sqlite3.Cursor at 0x1d20fc5df80>"
      ]
     },
     "execution_count": 15,
     "metadata": {},
     "output_type": "execute_result"
    }
   ],
   "source": [
    "#let's insert to many rows of data at a time.\n",
    "userData= [('00005', 'Stephanie', 'Stewart', 'female'), ('00006', 'Sincere', 'Sherman', 'female'),\n",
    "            ('00007', 'Sidney', 'Horn', 'male'), ('00008', 'Litzy', 'Yates', 'female'), ('00009', 'Jaxon', 'Mills', 'male'),\n",
    "            ('00010', 'Paul', 'Richard', 'male'), ('00011', 'Kamari', 'Holden', 'female'), \n",
    "            ('00012', 'Gaige', 'Summers', 'female'), ('00013', 'Andrea', 'Snow', 'female'), \n",
    "            ('00014', 'Angelica', 'Barnes', 'female'), ('00015', 'Leah', 'Pitts', 'female'), \n",
    "            ('00016', 'Dillan', 'Olsen', 'male'), ('00017', 'Joe', 'Walsh', 'male'), ('00018', 'Reagan', 'Cooper', 'male'),\n",
    "            ('00019', 'Aubree', 'Hogan', 'female'), ('00020', 'Avery', 'Floyd', 'male'), \n",
    "            ('00021', 'Elianna', 'Simmons', 'female'), ('00022', 'Rodney', 'Stout', 'male'), \n",
    "            ('00023', 'Elaine', 'Mcintosh', 'female'), ('00024', 'Myla', 'Mckenzie', 'female'), \n",
    "            ('00025', 'Alijah', 'Horn', 'female'), ('00026', 'Rohan', 'Peterson', 'male'), \n",
    "            ('00027', 'Irene', 'Walters', 'female'), ('00028', 'Lilia', 'Sellers', 'female'), \n",
    "            ('00029', 'Perla', 'Jefferson', 'female'), ('00030', 'Ashley', 'Klein', 'female')]\n",
    "orderData=[('00001', '2020-01-01', '00025', '178'), ('00002', '2020-01-03', '00025', '39'), \n",
    "             ('00003', '2020-01-07', '00016', '153'), ('00004', '2020-01-10', '00015', '110'),\n",
    "             ('00005', '2020-01-11', '00024', '219'), ('00006', '2020-01-12', '00029', '37'),\n",
    "             ('00007', '2020-01-14', '00028', '227'), ('00008', '2020-01-18', '00010', '232'), \n",
    "             ('00009', '2020-01-22', '00016', '236'), ('00010', '2020-01-26', '00017', '116'), \n",
    "             ('00011', '2020-01-28', '00028', '221'), ('00012', '2020-01-31', '00021', '238'), \n",
    "             ('00013', '2020-02-02', '00015', '177'), ('00014', '2020-02-05', '00025', '76'),('00015', '2020-02-08', '00022', '245'), ('00016', '2020-02-12', '00008', '180'), \n",
    "             ('00017', '2020-02-14', '00020', '190'), ('00018', '2020-02-18', '00030', '166'),('00019', '2020-02-22', '00002', '168'), ('00020', '2020-02-26', '00021', '174'), \n",
    "             ('00021', '2020-02-29', '00017', '126'), ('00022', '2020-03-02', '00019', '211'),('00023', '2020-03-05', '00030', '144'), ('00024', '2020-03-09', '00012', '112'), \n",
    "             ('00025', '2020-03-10', '00006', '45'), ('00026', '2020-03-11', '00004', '200'), \n",
    "             ('00027', '2020-03-14', '00015', '226'), ('00028', '2020-03-17', '00030', '189'), \n",
    "             ('00029', '2020-03-20', '00004', '152'), ('00030', '2020-03-22', '00026', '239'), \n",
    "             ('00031', '2020-03-23', '00012', '135'), ('00032', '2020-03-24', '00013', '211'),\n",
    "             ('00033', '2020-03-27', '00030', '226'), ('00034', '2020-03-28', '00007', '173'), \n",
    "             ('00035', '2020-03-30', '00010', '144'), ('00036', '2020-04-01', '00017', '185'), \n",
    "             ('00037', '2020-04-03', '00009', '95'), ('00038', '2020-04-06', '00009', '138'), \n",
    "             ('00039', '2020-04-10', '00025', '223'), ('00040', '2020-04-12', '00019', '118'), ('00041', '2020-04-15', '00024', '132'), ('00042', '2020-04-18', '00008', '238'), ('00043', '2020-04-21', '00003', '50'), ('00044', '2020-04-25', '00019', '98'), ('00045', '2020-04-26', '00017', '167'), ('00046', '2020-04-28', '00009', '215'), ('00047', '2020-05-01', '00014', '142'), ('00048', '2020-05-05', '00022', '173'), ('00049', '2020-05-06', '00015', '80'), ('00050', '2020-05-07', '00017', '37'), ('00051', '2020-05-08', '00002', '36'), ('00052', '2020-05-10', '00022', '65'), ('00053', '2020-05-14', '00019', '110'), ('00054', '2020-05-18', '00017', '36'), ('00055', '2020-05-21', '00008', '163'), ('00056', '2020-05-24', '00024', '91'), ('00057', '2020-05-26', '00028', '154'), ('00058', '2020-05-30', '00022', '130'), ('00059', '2020-05-31', '00017', '119'), ('00060', '2020-06-01', '00024', '137'), ('00061', '2020-06-03', '00017', '206'), ('00062', '2020-06-04', '00013', '100'), ('00063', '2020-06-05', '00021', '187'), ('00064', '2020-06-09', '00025', '170'), ('00065', '2020-06-11', '00011', '149'), ('00066', '2020-06-12', '00007', '195'), ('00067', '2020-06-14', '00015', '30'), ('00068', '2020-06-16', '00002', '246'), ('00069', '2020-06-20', '00028', '163'), ('00070', '2020-06-22', '00005', '184'), ('00071', '2020-06-23', '00022', '68'), ('00072', '2020-06-27', '00013', '92'), ('00073', '2020-06-30', '00022', '149'), ('00074', '2020-07-04', '00002', '65'), ('00075', '2020-07-05', '00017', '88'), ('00076', '2020-07-09', '00007', '156'), ('00077', '2020-07-13', '00010', '26'), ('00078', '2020-07-16', '00008', '55'), ('00079', '2020-07-20', '00019', '81'), ('00080', '2020-07-22', '00011', '78'), ('00081', '2020-07-23', '00026', '166'), ('00082', '2020-07-27', '00014', '65'), ('00083', '2020-07-30', '00021', '205'), ('00084', '2020-08-01', '00026', '140'), ('00085', '2020-08-05', '00006', '236'), ('00086', '2020-08-06', '00021', '208'), ('00087', '2020-08-07', '00021', '169'), ('00088', '2020-08-08', '00004', '157'), ('00089', '2020-08-11', '00017', '71'), ('00090', '2020-08-13', '00025', '89'), ('00091', '2020-08-16', '00014', '249'), ('00092', '2020-08-18', '00012', '59'), ('00093', '2020-08-19', '00013', '121'), ('00094', '2020-08-20', '00025', '179'), ('00095', '2020-08-22', '00017', '208'), ('00096', '2020-08-26', '00024', '217'), ('00097', '2020-08-28', '00004', '206'), ('00098', '2020-08-30', '00017', '114'), ('00099', '2020-08-31', '00017', '169'), \n",
    "             ('00100', '2020-09-02', '00022', '226')]\n",
    "cur.executemany(\"INSERT INTO users VALUES(?,?,?,?)\",userData)\n",
    "cur.executemany(\"INSERT INTO orders VALUES(?,?,?,?)\",orderData)"
   ]
  },
  {
   "cell_type": "code",
   "execution_count": 16,
   "metadata": {},
   "outputs": [
    {
     "name": "stdout",
     "output_type": "stream",
     "text": [
      "[(1001, 'bibek', 'rawat', 'male'), (2001, 'binaya', 'rawat', 'male'), (5, 'Stephanie', 'Stewart', 'female'), (6, 'Sincere', 'Sherman', 'female'), (7, 'Sidney', 'Horn', 'male')]\n"
     ]
    },
    {
     "data": {
      "text/plain": [
       "[(1, '2020-01-01', '00025', '178'),\n",
       " (2, '2020-01-03', '00025', '39'),\n",
       " (3, '2020-01-07', '00016', '153'),\n",
       " (4, '2020-01-10', '00015', '110'),\n",
       " (5, '2020-01-11', '00024', '219'),\n",
       " (6, '2020-01-12', '00029', '37'),\n",
       " (7, '2020-01-14', '00028', '227'),\n",
       " (8, '2020-01-18', '00010', '232'),\n",
       " (9, '2020-01-22', '00016', '236'),\n",
       " (10, '2020-01-26', '00017', '116')]"
      ]
     },
     "execution_count": 16,
     "metadata": {},
     "output_type": "execute_result"
    }
   ],
   "source": [
    "#let's fetch the data\n",
    "x=cur.execute(\"SELECT * FROM users\").fetchmany(5)\n",
    "print(x)\n",
    "cur.execute(\"SELECT * FROM orders\").fetchmany(10)"
   ]
  },
  {
   "cell_type": "code",
   "execution_count": 17,
   "metadata": {},
   "outputs": [
    {
     "data": {
      "text/plain": [
       "[(5, 'Stephanie', 'Stewart', 'female'),\n",
       " (6, 'Sincere', 'Sherman', 'female'),\n",
       " (8, 'Litzy', 'Yates', 'female'),\n",
       " (11, 'Kamari', 'Holden', 'female'),\n",
       " (12, 'Gaige', 'Summers', 'female'),\n",
       " (13, 'Andrea', 'Snow', 'female'),\n",
       " (14, 'Angelica', 'Barnes', 'female'),\n",
       " (15, 'Leah', 'Pitts', 'female')]"
      ]
     },
     "execution_count": 17,
     "metadata": {},
     "output_type": "execute_result"
    }
   ],
   "source": [
    "#retrive with condition\n",
    "#WHERE condition\n",
    "cur.execute(\"SELECT * FROM users WHERE gender='female'\").fetchmany(8)"
   ]
  },
  {
   "cell_type": "code",
   "execution_count": 18,
   "metadata": {},
   "outputs": [
    {
     "data": {
      "text/plain": [
       "[('bibek', 'rawat'),\n",
       " ('binaya', 'rawat'),\n",
       " ('Sidney', 'Horn'),\n",
       " ('Jaxon', 'Mills'),\n",
       " ('Paul', 'Richard')]"
      ]
     },
     "execution_count": 18,
     "metadata": {},
     "output_type": "execute_result"
    }
   ],
   "source": [
    "#WHERE CONDITION\n",
    "cur.execute(\"SELECT fname,lname FROM users WHERE gender='male'\").fetchmany(5)"
   ]
  },
  {
   "cell_type": "code",
   "execution_count": 19,
   "metadata": {},
   "outputs": [
    {
     "data": {
      "text/plain": [
       "[(9, '2020-01-22', '00016', '236'),\n",
       " (10, '2020-01-26', '00017', '116'),\n",
       " (11, '2020-01-28', '00028', '221')]"
      ]
     },
     "execution_count": 19,
     "metadata": {},
     "output_type": "execute_result"
    }
   ],
   "source": [
    "#LIKE CONDITION\n",
    "cur.execute(\"SELECT * FROM orders WHERE date LIKE '2020-01-2%'\").fetchall()\n",
    "#value start with 2\n",
    "# '2020-02-%1' value end with 1"
   ]
  },
  {
   "cell_type": "code",
   "execution_count": 20,
   "metadata": {},
   "outputs": [
    {
     "data": {
      "text/plain": [
       "[('2020-01-01', '00025'),\n",
       " ('2020-01-03', '00025'),\n",
       " ('2020-01-07', '00016'),\n",
       " ('2020-01-10', '00015'),\n",
       " ('2020-01-11', '00024'),\n",
       " ('2020-01-12', '00029'),\n",
       " ('2020-01-14', '00028'),\n",
       " ('2020-01-18', '00010')]"
      ]
     },
     "execution_count": 20,
     "metadata": {},
     "output_type": "execute_result"
    }
   ],
   "source": [
    "cur.execute(\"SELECT date,userid FROM orders\").fetchmany(8)"
   ]
  },
  {
   "cell_type": "code",
   "execution_count": 21,
   "metadata": {},
   "outputs": [
    {
     "data": {
      "text/plain": [
       "[('bibek',), ('binaya',), ('Stephanie',), ('Sincere',), ('Sidney',)]"
      ]
     },
     "execution_count": 21,
     "metadata": {},
     "output_type": "execute_result"
    }
   ],
   "source": [
    "#unique value :distinct()\n",
    "cur.execute(\"SELECT distinct(fname) FROM users\").fetchmany(5)"
   ]
  },
  {
   "cell_type": "code",
   "execution_count": 22,
   "metadata": {},
   "outputs": [
    {
     "data": {
      "text/plain": [
       "[('bibek',), ('binaya',)]"
      ]
     },
     "execution_count": 22,
     "metadata": {},
     "output_type": "execute_result"
    }
   ],
   "source": [
    "cur.execute(\"SELECT distinct(fname) FROM users WHERE lname='rawat'\").fetchall()"
   ]
  },
  {
   "cell_type": "code",
   "execution_count": 23,
   "metadata": {},
   "outputs": [
    {
     "name": "stdout",
     "output_type": "stream",
     "text": [
      "[(28,)]\n",
      "[(82,)]\n"
     ]
    }
   ],
   "source": [
    "#count function\n",
    "print(cur.execute(\"SELECT count(fname) FROM users\").fetchall())\n",
    "print(cur.execute(\"SELECT count(distinct(total)) FROM orders\").fetchall())"
   ]
  },
  {
   "cell_type": "code",
   "execution_count": 24,
   "metadata": {},
   "outputs": [
    {
     "name": "stdout",
     "output_type": "stream",
     "text": [
      "[(11,)]\n",
      "[(28,)]\n",
      "[(100,)]\n",
      "[(14789,)]\n",
      "[(147.89,)]\n"
     ]
    }
   ],
   "source": [
    "print(cur.execute(\"SELECT count(*) FROM users WHERE gender='male'\").fetchall())\n",
    "print(cur.execute(\"SELECT count(*) FROM users\").fetchall())\n",
    "print(cur.execute(\"SELECT count(total) FROM orders\").fetchall())\n",
    "print(cur.execute(\"SELECT SUM(total) FROM orders\").fetchall())\n",
    "print(cur.execute(\"SELECT AVG(total) FROM orders\").fetchall())"
   ]
  },
  {
   "cell_type": "markdown",
   "metadata": {},
   "source": [
    "# UPDATE PART IN SQLITE"
   ]
  },
  {
   "cell_type": "code",
   "execution_count": 25,
   "metadata": {},
   "outputs": [
    {
     "data": {
      "text/plain": [
       "[(1001, 'bibek', 'rawat', 'male')]"
      ]
     },
     "execution_count": 25,
     "metadata": {},
     "output_type": "execute_result"
    }
   ],
   "source": [
    "cur.execute(\"SELECT * FROM users WHERE userid=1001\").fetchall()"
   ]
  },
  {
   "cell_type": "code",
   "execution_count": 26,
   "metadata": {},
   "outputs": [],
   "source": [
    "update_data=\"update users set fname='carlos',userid=1000 WHERE fname='bibek'\"\n",
    "cur.execute(update_data)\n",
    "conn.commit()"
   ]
  },
  {
   "cell_type": "code",
   "execution_count": 27,
   "metadata": {},
   "outputs": [
    {
     "name": "stdout",
     "output_type": "stream",
     "text": [
      "[(1000, 'carlos', 'rawat', 'male')]\n",
      "[]\n"
     ]
    }
   ],
   "source": [
    "print(cur.execute(\"SELECT * FROM users WHERE fname='carlos' AND gender='male'\").fetchall())\n",
    "print(cur.execute(\"SELECT * FROM users WHERE fname='bibek'\").fetchall())"
   ]
  },
  {
   "cell_type": "markdown",
   "metadata": {},
   "source": [
    "# Delete data from database"
   ]
  },
  {
   "cell_type": "code",
   "execution_count": 28,
   "metadata": {},
   "outputs": [
    {
     "data": {
      "text/plain": [
       "<sqlite3.Cursor at 0x1d20fc5df80>"
      ]
     },
     "execution_count": 28,
     "metadata": {},
     "output_type": "execute_result"
    }
   ],
   "source": [
    "#first add a dummy data\n",
    "dummy_data=(10012,'test','data','null')\n",
    "cur.execute(\"INSERT INTO users VALUES(?,?,?,?)\",dummy_data)"
   ]
  },
  {
   "cell_type": "code",
   "execution_count": 29,
   "metadata": {},
   "outputs": [
    {
     "data": {
      "text/plain": [
       "[(10012, 'test', 'data', 'null')]"
      ]
     },
     "execution_count": 29,
     "metadata": {},
     "output_type": "execute_result"
    }
   ],
   "source": [
    "cur.execute(\"SELECT * FROM users WHERE gender='null' AND fname='test' AND lname='data'\").fetchall()#multiple AND condition"
   ]
  },
  {
   "cell_type": "code",
   "execution_count": 30,
   "metadata": {},
   "outputs": [],
   "source": [
    "cur.execute(\"DELETE FROM users WHERE gender='null' AND fname='test'\")\n",
    "conn.commit()"
   ]
  },
  {
   "cell_type": "code",
   "execution_count": 31,
   "metadata": {},
   "outputs": [
    {
     "data": {
      "text/plain": [
       "[]"
      ]
     },
     "execution_count": 31,
     "metadata": {},
     "output_type": "execute_result"
    }
   ],
   "source": [
    "cur.execute(\"DELETE FROM users WHERE userid=10012 AND fname='test'\").fetchall()"
   ]
  },
  {
   "cell_type": "markdown",
   "metadata": {},
   "source": [
    "# Join multiple table"
   ]
  },
  {
   "cell_type": "code",
   "execution_count": 32,
   "metadata": {},
   "outputs": [
    {
     "data": {
      "text/plain": [
       "[(1, 'Alijah', '2020-01-01', '178'),\n",
       " (2, 'Alijah', '2020-01-03', '39'),\n",
       " (3, 'Dillan', '2020-01-07', '153'),\n",
       " (4, 'Leah', '2020-01-10', '110'),\n",
       " (5, 'Myla', '2020-01-11', '219')]"
      ]
     },
     "execution_count": 32,
     "metadata": {},
     "output_type": "execute_result"
    }
   ],
   "source": [
    "cur.execute(\"\"\"SELECT orders.orderid, users.fname,orders.date,orders.total\n",
    "            FROM users\n",
    "          INNER JOIN orders \n",
    "    ON users.userid=orders.userid\"\"\").fetchmany(5)"
   ]
  },
  {
   "cell_type": "code",
   "execution_count": 33,
   "metadata": {},
   "outputs": [
    {
     "data": {
      "text/plain": [
       "[(1, 'Alijah', '2020-01-01', '178'),\n",
       " (2, 'Alijah', '2020-01-03', '39'),\n",
       " (14, 'Alijah', '2020-02-05', '76'),\n",
       " (39, 'Alijah', '2020-04-10', '223'),\n",
       " (64, 'Alijah', '2020-06-09', '170'),\n",
       " (90, 'Alijah', '2020-08-13', '89'),\n",
       " (94, 'Alijah', '2020-08-20', '179')]"
      ]
     },
     "execution_count": 33,
     "metadata": {},
     "output_type": "execute_result"
    }
   ],
   "source": [
    "cur.execute(\"\"\"SELECT orders.orderid, users.fname,orders.date,orders.total\n",
    "            FROM users\n",
    "          INNER JOIN orders \n",
    "    ON users.userid=orders.userid AND users.fname='Alijah'\"\"\").fetchall()\n",
    "#extract only Alijah data from table"
   ]
  },
  {
   "cell_type": "code",
   "execution_count": 34,
   "metadata": {},
   "outputs": [],
   "source": [
    "#export \n",
    "import csv\n",
    "import json\n"
   ]
  },
  {
   "cell_type": "code",
   "execution_count": 35,
   "metadata": {},
   "outputs": [],
   "source": [
    "data=cur.execute(\"SELECT * FROM users\")"
   ]
  },
  {
   "cell_type": "code",
   "execution_count": 41,
   "metadata": {},
   "outputs": [
    {
     "data": {
      "text/plain": [
       "\"    \\nwith open('csvdata1.csv','w+') as fo:\\n    x = csv.writer(fo)\\n    x.writerow(['orderid','date','userid','total'])\\n    x.writerows(order)\\n\""
      ]
     },
     "execution_count": 41,
     "metadata": {},
     "output_type": "execute_result"
    }
   ],
   "source": [
    "with open('csvdata1.csv','w+') as f:\n",
    "    x= csv.writer(f)\n",
    "    x.writerow(['userid','fname','lname','gender'])\n",
    "    x.writerows(data)\n",
    "\n",
    "'''    \n",
    "with open('csvdata1.csv','w+') as fo:\n",
    "    x = csv.writer(fo)\n",
    "    x.writerow(['orderid','date','userid','total'])\n",
    "    x.writerows(order)\n",
    "'''"
   ]
  },
  {
   "cell_type": "code",
   "execution_count": 108,
   "metadata": {},
   "outputs": [],
   "source": [
    "final={}\n",
    "with open('csvUser.csv') as cu:\n",
    "    readCSV = csv.DictReader(cu)\n",
    "    for row in readCSV:\n",
    "        id=row['userid']\n",
    "        final[id]=row\n",
    "#print(final)\n",
    "with open('jsonUser.json','w') as jf:\n",
    "    jf.write(json.dumps(final,indent=2))\n",
    "    "
   ]
  },
  {
   "cell_type": "code",
   "execution_count": 44,
   "metadata": {},
   "outputs": [
    {
     "ename": "OperationalError",
     "evalue": "no such table: users_from_csv",
     "output_type": "error",
     "traceback": [
      "\u001b[1;31m---------------------------------------------------------------------------\u001b[0m",
      "\u001b[1;31mOperationalError\u001b[0m                          Traceback (most recent call last)",
      "\u001b[1;32m<ipython-input-44-543a8560ecd5>\u001b[0m in \u001b[0;36m<module>\u001b[1;34m\u001b[0m\n\u001b[1;32m----> 1\u001b[1;33m \u001b[0mcur\u001b[0m\u001b[1;33m.\u001b[0m\u001b[0mexecute\u001b[0m\u001b[1;33m(\u001b[0m\u001b[1;34m\"DROP TABLE users_from_csv\"\u001b[0m\u001b[1;33m)\u001b[0m\u001b[1;31m#DROP Table\u001b[0m\u001b[1;33m\u001b[0m\u001b[1;33m\u001b[0m\u001b[0m\n\u001b[0m\u001b[0;32m      2\u001b[0m \u001b[0mconn\u001b[0m\u001b[1;33m.\u001b[0m\u001b[0mcommit\u001b[0m\u001b[1;33m(\u001b[0m\u001b[1;33m)\u001b[0m\u001b[1;33m\u001b[0m\u001b[1;33m\u001b[0m\u001b[0m\n",
      "\u001b[1;31mOperationalError\u001b[0m: no such table: users_from_csv"
     ]
    }
   ],
   "source": [
    "cur.execute(\"DROP TABLE users_from_csv\")#DROP Table\n",
    "conn.commit()"
   ]
  },
  {
   "cell_type": "code",
   "execution_count": null,
   "metadata": {},
   "outputs": [],
   "source": []
  }
 ],
 "metadata": {
  "kernelspec": {
   "display_name": "Python 3",
   "language": "python",
   "name": "python3"
  },
  "language_info": {
   "codemirror_mode": {
    "name": "ipython",
    "version": 3
   },
   "file_extension": ".py",
   "mimetype": "text/x-python",
   "name": "python",
   "nbconvert_exporter": "python",
   "pygments_lexer": "ipython3",
   "version": "3.8.3"
  }
 },
 "nbformat": 4,
 "nbformat_minor": 4
}
