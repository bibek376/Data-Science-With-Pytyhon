{
 "cells": [
  {
   "cell_type": "code",
   "execution_count": 2,
   "metadata": {},
   "outputs": [
    {
     "name": "stdout",
     "output_type": "stream",
     "text": [
      "       first   last                email\n",
      "per1   bibek  rawat    bibek12@email.com\n",
      "per2  binaya  rawat   binaya23@gmail.com\n",
      "per3  bikash  thapa  bikash123@gmail.com\n"
     ]
    }
   ],
   "source": [
    "import pandas as pd\n",
    "test={\"first\":[\"bibek\",\"binaya\",\"bikash\"],\"last\":[\"rawat\",\"rawat\",\"thapa\"],\"email\":[\"bibek12@email.com\",\"binaya23@gmail.com\",\"bikash123@gmail.com\"]}\n",
    "df=pd.DataFrame(test,index=[\"per1\",\"per2\",\"per3\"])\n",
    "print(df)"
   ]
  },
  {
   "cell_type": "code",
   "execution_count": 3,
   "metadata": {},
   "outputs": [
    {
     "name": "stdout",
     "output_type": "stream",
     "text": [
      "first                binaya\n",
      "last                  rawat\n",
      "email    binaya23@gmail.com\n",
      "Name: per2, dtype: object\n"
     ]
    }
   ],
   "source": [
    "print(df.iloc[1])#accessing a second row do not use in practical."
   ]
  },
  {
   "cell_type": "code",
   "execution_count": 5,
   "metadata": {},
   "outputs": [
    {
     "name": "stdout",
     "output_type": "stream",
     "text": [
      "first                binaya\n",
      "last                  rawat\n",
      "email    binaya23@gmail.com\n",
      "Name: per2, dtype: object\n"
     ]
    }
   ],
   "source": [
    "print(df.loc['per2'])#accessing a row using loc ."
   ]
  },
  {
   "cell_type": "code",
   "execution_count": 8,
   "metadata": {},
   "outputs": [
    {
     "name": "stdout",
     "output_type": "stream",
     "text": [
      "bikash123@gmail.com\n",
      "binaya23@gmail.com\n"
     ]
    }
   ],
   "source": [
    "#accessing a email value using a row and column operations.\n",
    "print(df.loc['per3','email'])\n",
    "print(df['email']['per2'])"
   ]
  },
  {
   "cell_type": "code",
   "execution_count": 17,
   "metadata": {},
   "outputs": [
    {
     "name": "stdout",
     "output_type": "stream",
     "text": [
      "       first               email\n",
      "per1   bibek   bibek12@email.com\n",
      "per2  binaya  binaya23@gmail.com\n"
     ]
    }
   ],
   "source": [
    "#accessing a multiple value at a time.\n",
    "print(df.loc[['per1','per2'],['first','email']])"
   ]
  },
  {
   "cell_type": "code",
   "execution_count": 18,
   "metadata": {},
   "outputs": [
    {
     "data": {
      "text/html": [
       "<div>\n",
       "<style scoped>\n",
       "    .dataframe tbody tr th:only-of-type {\n",
       "        vertical-align: middle;\n",
       "    }\n",
       "\n",
       "    .dataframe tbody tr th {\n",
       "        vertical-align: top;\n",
       "    }\n",
       "\n",
       "    .dataframe thead th {\n",
       "        text-align: right;\n",
       "    }\n",
       "</style>\n",
       "<table border=\"1\" class=\"dataframe\">\n",
       "  <thead>\n",
       "    <tr style=\"text-align: right;\">\n",
       "      <th></th>\n",
       "      <th>first</th>\n",
       "      <th>last</th>\n",
       "    </tr>\n",
       "    <tr>\n",
       "      <th>email</th>\n",
       "      <th></th>\n",
       "      <th></th>\n",
       "    </tr>\n",
       "  </thead>\n",
       "  <tbody>\n",
       "    <tr>\n",
       "      <th>bibek12@email.com</th>\n",
       "      <td>bibek</td>\n",
       "      <td>rawat</td>\n",
       "    </tr>\n",
       "    <tr>\n",
       "      <th>binaya23@gmail.com</th>\n",
       "      <td>binaya</td>\n",
       "      <td>rawat</td>\n",
       "    </tr>\n",
       "    <tr>\n",
       "      <th>bikash123@gmail.com</th>\n",
       "      <td>bikash</td>\n",
       "      <td>thapa</td>\n",
       "    </tr>\n",
       "  </tbody>\n",
       "</table>\n",
       "</div>"
      ],
      "text/plain": [
       "                      first   last\n",
       "email                             \n",
       "bibek12@email.com     bibek  rawat\n",
       "binaya23@gmail.com   binaya  rawat\n",
       "bikash123@gmail.com  bikash  thapa"
      ]
     },
     "execution_count": 18,
     "metadata": {},
     "output_type": "execute_result"
    }
   ],
   "source": [
    "#set_index()\n",
    "#set email as a index.\n",
    "df.set_index('email',inplace=True)\n",
    "df"
   ]
  },
  {
   "cell_type": "code",
   "execution_count": 19,
   "metadata": {},
   "outputs": [
    {
     "data": {
      "text/plain": [
       "Index(['bibek12@email.com', 'binaya23@gmail.com', 'bikash123@gmail.com'], dtype='object', name='email')"
      ]
     },
     "execution_count": 19,
     "metadata": {},
     "output_type": "execute_result"
    }
   ],
   "source": [
    "df.index"
   ]
  },
  {
   "cell_type": "code",
   "execution_count": 21,
   "metadata": {},
   "outputs": [
    {
     "data": {
      "text/plain": [
       "'rawat'"
      ]
     },
     "execution_count": 21,
     "metadata": {},
     "output_type": "execute_result"
    }
   ],
   "source": [
    "#lets check\n",
    "df.loc['bibek12@email.com','last']"
   ]
  },
  {
   "cell_type": "code",
   "execution_count": 24,
   "metadata": {},
   "outputs": [
    {
     "data": {
      "text/html": [
       "<div>\n",
       "<style scoped>\n",
       "    .dataframe tbody tr th:only-of-type {\n",
       "        vertical-align: middle;\n",
       "    }\n",
       "\n",
       "    .dataframe tbody tr th {\n",
       "        vertical-align: top;\n",
       "    }\n",
       "\n",
       "    .dataframe thead th {\n",
       "        text-align: right;\n",
       "    }\n",
       "</style>\n",
       "<table border=\"1\" class=\"dataframe\">\n",
       "  <thead>\n",
       "    <tr style=\"text-align: right;\">\n",
       "      <th></th>\n",
       "      <th>email</th>\n",
       "      <th>first</th>\n",
       "      <th>last</th>\n",
       "    </tr>\n",
       "  </thead>\n",
       "  <tbody>\n",
       "    <tr>\n",
       "      <th>0</th>\n",
       "      <td>bibek12@email.com</td>\n",
       "      <td>bibek</td>\n",
       "      <td>rawat</td>\n",
       "    </tr>\n",
       "    <tr>\n",
       "      <th>1</th>\n",
       "      <td>binaya23@gmail.com</td>\n",
       "      <td>binaya</td>\n",
       "      <td>rawat</td>\n",
       "    </tr>\n",
       "    <tr>\n",
       "      <th>2</th>\n",
       "      <td>bikash123@gmail.com</td>\n",
       "      <td>bikash</td>\n",
       "      <td>thapa</td>\n",
       "    </tr>\n",
       "  </tbody>\n",
       "</table>\n",
       "</div>"
      ],
      "text/plain": [
       "                 email   first   last\n",
       "0    bibek12@email.com   bibek  rawat\n",
       "1   binaya23@gmail.com  binaya  rawat\n",
       "2  bikash123@gmail.com  bikash  thapa"
      ]
     },
     "execution_count": 24,
     "metadata": {},
     "output_type": "execute_result"
    }
   ],
   "source": [
    "#reset_index()\n",
    "df.reset_index(inplace=True)\n",
    "df#it will return our defult index."
   ]
  },
  {
   "cell_type": "code",
   "execution_count": 27,
   "metadata": {},
   "outputs": [
    {
     "data": {
      "text/plain": [
       "0      bibek12@email.com\n",
       "1     binaya23@gmail.com\n",
       "2    bikash123@gmail.com\n",
       "Name: email, dtype: object"
      ]
     },
     "execution_count": 27,
     "metadata": {},
     "output_type": "execute_result"
    }
   ],
   "source": [
    "#accessing a information of email.\n",
    "# df['email']\n",
    "df.email"
   ]
  },
  {
   "cell_type": "code",
   "execution_count": 28,
   "metadata": {},
   "outputs": [
    {
     "data": {
      "text/html": [
       "<div>\n",
       "<style scoped>\n",
       "    .dataframe tbody tr th:only-of-type {\n",
       "        vertical-align: middle;\n",
       "    }\n",
       "\n",
       "    .dataframe tbody tr th {\n",
       "        vertical-align: top;\n",
       "    }\n",
       "\n",
       "    .dataframe thead th {\n",
       "        text-align: right;\n",
       "    }\n",
       "</style>\n",
       "<table border=\"1\" class=\"dataframe\">\n",
       "  <thead>\n",
       "    <tr style=\"text-align: right;\">\n",
       "      <th></th>\n",
       "      <th>email</th>\n",
       "      <th>first</th>\n",
       "      <th>last</th>\n",
       "    </tr>\n",
       "  </thead>\n",
       "  <tbody>\n",
       "    <tr>\n",
       "      <th>0</th>\n",
       "      <td>bibek12@email.com</td>\n",
       "      <td>bibek</td>\n",
       "      <td>rawat</td>\n",
       "    </tr>\n",
       "  </tbody>\n",
       "</table>\n",
       "</div>"
      ],
      "text/plain": [
       "               email  first   last\n",
       "0  bibek12@email.com  bibek  rawat"
      ]
     },
     "execution_count": 28,
     "metadata": {},
     "output_type": "execute_result"
    }
   ],
   "source": [
    "condition=df.email.str.contains('email')\n",
    "df.loc[condition]#first cherck all email and return only.email format"
   ]
  },
  {
   "cell_type": "code",
   "execution_count": 32,
   "metadata": {},
   "outputs": [
    {
     "data": {
      "text/html": [
       "<div>\n",
       "<style scoped>\n",
       "    .dataframe tbody tr th:only-of-type {\n",
       "        vertical-align: middle;\n",
       "    }\n",
       "\n",
       "    .dataframe tbody tr th {\n",
       "        vertical-align: top;\n",
       "    }\n",
       "\n",
       "    .dataframe thead th {\n",
       "        text-align: right;\n",
       "    }\n",
       "</style>\n",
       "<table border=\"1\" class=\"dataframe\">\n",
       "  <thead>\n",
       "    <tr style=\"text-align: right;\">\n",
       "      <th></th>\n",
       "      <th>email</th>\n",
       "      <th>first</th>\n",
       "      <th>last</th>\n",
       "    </tr>\n",
       "  </thead>\n",
       "  <tbody>\n",
       "    <tr>\n",
       "      <th>1</th>\n",
       "      <td>binaya23@gmail.com</td>\n",
       "      <td>binaya</td>\n",
       "      <td>rawat</td>\n",
       "    </tr>\n",
       "    <tr>\n",
       "      <th>2</th>\n",
       "      <td>bikash123@gmail.com</td>\n",
       "      <td>bikash</td>\n",
       "      <td>thapa</td>\n",
       "    </tr>\n",
       "  </tbody>\n",
       "</table>\n",
       "</div>"
      ],
      "text/plain": [
       "                 email   first   last\n",
       "1   binaya23@gmail.com  binaya  rawat\n",
       "2  bikash123@gmail.com  bikash  thapa"
      ]
     },
     "execution_count": 32,
     "metadata": {},
     "output_type": "execute_result"
    }
   ],
   "source": [
    "#applying another condition\n",
    "# condition=df.email.str.contains('email')\n",
    "# df.loc[~condition]\n",
    "condition=df.email.str.contains('gmail')\n",
    "df.loc[condition]"
   ]
  },
  {
   "cell_type": "code",
   "execution_count": 35,
   "metadata": {},
   "outputs": [
    {
     "data": {
      "text/html": [
       "<div>\n",
       "<style scoped>\n",
       "    .dataframe tbody tr th:only-of-type {\n",
       "        vertical-align: middle;\n",
       "    }\n",
       "\n",
       "    .dataframe tbody tr th {\n",
       "        vertical-align: top;\n",
       "    }\n",
       "\n",
       "    .dataframe thead th {\n",
       "        text-align: right;\n",
       "    }\n",
       "</style>\n",
       "<table border=\"1\" class=\"dataframe\">\n",
       "  <thead>\n",
       "    <tr style=\"text-align: right;\">\n",
       "      <th></th>\n",
       "      <th>e-mail</th>\n",
       "      <th>first_name</th>\n",
       "      <th>last_name</th>\n",
       "    </tr>\n",
       "  </thead>\n",
       "  <tbody>\n",
       "    <tr>\n",
       "      <th>0</th>\n",
       "      <td>bibek12@email.com</td>\n",
       "      <td>bibek</td>\n",
       "      <td>rawat</td>\n",
       "    </tr>\n",
       "    <tr>\n",
       "      <th>1</th>\n",
       "      <td>binaya23@gmail.com</td>\n",
       "      <td>binaya</td>\n",
       "      <td>rawat</td>\n",
       "    </tr>\n",
       "    <tr>\n",
       "      <th>2</th>\n",
       "      <td>bikash123@gmail.com</td>\n",
       "      <td>bikash</td>\n",
       "      <td>thapa</td>\n",
       "    </tr>\n",
       "  </tbody>\n",
       "</table>\n",
       "</div>"
      ],
      "text/plain": [
       "                e-mail first_name last_name\n",
       "0    bibek12@email.com      bibek     rawat\n",
       "1   binaya23@gmail.com     binaya     rawat\n",
       "2  bikash123@gmail.com     bikash     thapa"
      ]
     },
     "execution_count": 35,
     "metadata": {},
     "output_type": "execute_result"
    }
   ],
   "source": [
    "#Renaming a column\n",
    "df.rename(columns={'first':'first_name','last':'last_name','email':'e-mail'},inplace=True)\n",
    "df"
   ]
  },
  {
   "cell_type": "code",
   "execution_count": null,
   "metadata": {},
   "outputs": [],
   "source": []
  }
 ],
 "metadata": {
  "kernelspec": {
   "display_name": "Python 3",
   "language": "python",
   "name": "python3"
  },
  "language_info": {
   "codemirror_mode": {
    "name": "ipython",
    "version": 3
   },
   "file_extension": ".py",
   "mimetype": "text/x-python",
   "name": "python",
   "nbconvert_exporter": "python",
   "pygments_lexer": "ipython3",
   "version": "3.8.3"
  }
 },
 "nbformat": 4,
 "nbformat_minor": 4
}
