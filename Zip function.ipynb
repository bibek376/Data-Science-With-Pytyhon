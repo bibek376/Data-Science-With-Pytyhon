{
 "cells": [
  {
   "cell_type": "code",
   "execution_count": 1,
   "metadata": {},
   "outputs": [
    {
     "name": "stdout",
     "output_type": "stream",
     "text": [
      "1 bibek\n",
      "2 carlos\n",
      "3 nanda\n",
      "4 shubham\n"
     ]
    }
   ],
   "source": [
    "#Zip is used for combining a two lsit elements.\n",
    "x=[1,2,3,4]\n",
    "y=[\"bibek\",\"carlos\",\"nanda\",\"shubham\"]\n",
    "for a,b in zip(x,y):\n",
    "    print(a,b)"
   ]
  },
  {
   "cell_type": "code",
   "execution_count": 4,
   "metadata": {},
   "outputs": [
    {
     "name": "stdout",
     "output_type": "stream",
     "text": [
      "[[1, 2, 3], [4, 5, 6], [7, 8, 9]]\n",
      "<zip object at 0x000001ECC966D180>\n",
      "(1, 4, 7)\n",
      "(2, 5, 8)\n",
      "(3, 6, 9)\n"
     ]
    }
   ],
   "source": [
    "#unzip method\n",
    "xx=[[1,2,3],[4,5,6],[7,8,9]]\n",
    "print(xx)\n",
    "print(zip(*xx))\n",
    "for c in zip(*xx):\n",
    "    print(c)"
   ]
  },
  {
   "cell_type": "code",
   "execution_count": null,
   "metadata": {},
   "outputs": [],
   "source": []
  }
 ],
 "metadata": {
  "kernelspec": {
   "display_name": "Python 3",
   "language": "python",
   "name": "python3"
  },
  "language_info": {
   "codemirror_mode": {
    "name": "ipython",
    "version": 3
   },
   "file_extension": ".py",
   "mimetype": "text/x-python",
   "name": "python",
   "nbconvert_exporter": "python",
   "pygments_lexer": "ipython3",
   "version": "3.8.3"
  }
 },
 "nbformat": 4,
 "nbformat_minor": 4
}
