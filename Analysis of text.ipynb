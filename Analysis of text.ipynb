{
 "cells": [
  {
   "cell_type": "code",
   "execution_count": 14,
   "metadata": {},
   "outputs": [
    {
     "name": "stdout",
     "output_type": "stream",
     "text": [
      "sentence is: The cat is sat on mat with rat ,cat and rat were palying on the mat and both cat and rat looks very happy .\n",
      "107\n",
      "<class 'str'>\n"
     ]
    }
   ],
   "source": [
    "x=\"The cat is sat on mat with rat ,cat and rat were palying on the mat and both cat and rat looks very happy .\"\n",
    "print(\"sentence is:\",x)\n",
    "print(len(x))\n",
    "print(type(x))"
   ]
  },
  {
   "cell_type": "code",
   "execution_count": 15,
   "metadata": {},
   "outputs": [
    {
     "name": "stdout",
     "output_type": "stream",
     "text": [
      "count of c: 3\n",
      "count of space: 108\n",
      "count is: 24\n"
     ]
    }
   ],
   "source": [
    "#counting\n",
    "print(\"count of c:\",x.count(\"c\"))\n",
    "print(\"count of space:\",x.count(\"\"))\n",
    "print(\"count is:\",x.count(\" \"))"
   ]
  },
  {
   "cell_type": "code",
   "execution_count": 20,
   "metadata": {},
   "outputs": [
    {
     "name": "stdout",
     "output_type": "stream",
     "text": [
      "['The cat is sat ', ' mat with rat ,cat and rat were palying ', ' the mat and both cat and rat looks very happy .']\n",
      "['The', 'cat', 'is', 'sat', 'on', 'mat', 'with', 'rat', ',cat', 'and', 'rat', 'were', 'palying', 'on', 'the', 'mat', 'and', 'both', 'cat', 'and', 'rat', 'looks', 'very', 'happy', '.']\n",
      "25\n",
      "<class 'list'>\n"
     ]
    }
   ],
   "source": [
    "#split function\n",
    "b=x.split(\"on\")\n",
    "print(b)\n",
    "a=x.split()\n",
    "print(a)\n",
    "print(len(a))\n",
    "print(type(a))"
   ]
  },
  {
   "cell_type": "code",
   "execution_count": 27,
   "metadata": {},
   "outputs": [
    {
     "name": "stdout",
     "output_type": "stream",
     "text": [
      "{'T': 1, 'h': 5, 'e': 5, ' ': 24, 'c': 3, 'a': 14, 't': 12, 'i': 3, 's': 3, 'o': 5, 'n': 6, 'm': 2, 'w': 2, 'r': 5, ',': 1, 'd': 3, 'p': 3, 'l': 2, 'y': 3, 'g': 1, 'b': 1, 'k': 1, 'v': 1, '.': 1}\n"
     ]
    }
   ],
   "source": [
    "#store the value in dictionary\n",
    "dict1={}\n",
    "for i in x:\n",
    "    if i in dict1:\n",
    "        dict1[i]+=1\n",
    "    else:\n",
    "        dict1[i]=1\n",
    "print(dict1)"
   ]
  },
  {
   "cell_type": "code",
   "execution_count": 41,
   "metadata": {},
   "outputs": [
    {
     "name": "stdout",
     "output_type": "stream",
     "text": [
      "['The', 'cat', 'is', 'sat', 'on', 'mat', 'with', 'rat', ',cat', 'and', 'rat', 'were', 'palying', 'on', 'the', 'mat', 'and', 'both', 'cat', 'and', 'rat', 'looks', 'very', 'happy', '.']\n",
      "in dictionary format: Counter({'rat': 3, 'and': 3, 'cat': 2, 'on': 2, 'mat': 2, 'The': 1, 'is': 1, 'sat': 1, 'with': 1, ',cat': 1, 'were': 1, 'palying': 1, 'the': 1, 'both': 1, 'looks': 1, 'very': 1, 'happy': 1, '.': 1})\n",
      "cat occurance is: 2\n"
     ]
    }
   ],
   "source": [
    "#using Count.\n",
    "from collections import Counter\n",
    "a=x.split()\n",
    "print(a)\n",
    "counts=Counter(a)\n",
    "print(\"in dictionary format:\",counts)\n",
    "print(\"cat occurance is:\",counts['cat'])"
   ]
  },
  {
   "cell_type": "code",
   "execution_count": 44,
   "metadata": {},
   "outputs": [
    {
     "name": "stdout",
     "output_type": "stream",
     "text": [
      "{'The': 1, 'cat': 3, 'is': 1, 'sat': 1, 'on': 2, 'mat': 2, 'with': 1, 'rat': 3, ',cat': 1, 'and': 3, 'were': 1, 'palying': 1, 'the': 1, 'both': 1, 'looks': 1, 'very': 1, 'happy': 1, '.': 1}\n"
     ]
    }
   ],
   "source": [
    "#using dictionary compherensive\n",
    "x=\"The cat is sat on mat with rat ,cat and rat were palying on the mat and both cat and rat looks very happy .\"\n",
    "a={i:x.count(i) for i in x.split()}\n",
    "print(a)"
   ]
  },
  {
   "cell_type": "code",
   "execution_count": null,
   "metadata": {},
   "outputs": [],
   "source": []
  }
 ],
 "metadata": {
  "kernelspec": {
   "display_name": "Python 3",
   "language": "python",
   "name": "python3"
  },
  "language_info": {
   "codemirror_mode": {
    "name": "ipython",
    "version": 3
   },
   "file_extension": ".py",
   "mimetype": "text/x-python",
   "name": "python",
   "nbconvert_exporter": "python",
   "pygments_lexer": "ipython3",
   "version": "3.8.3"
  }
 },
 "nbformat": 4,
 "nbformat_minor": 4
}
